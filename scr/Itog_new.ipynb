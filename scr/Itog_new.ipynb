{
 "cells": [
  {
   "cell_type": "markdown",
   "id": "159363b8",
   "metadata": {},
   "source": [
    "# Подключение библиотек"
   ]
  },
  {
   "cell_type": "code",
   "execution_count": 2,
   "id": "b3c41e0c",
   "metadata": {},
   "outputs": [],
   "source": [
    "from pyspark.sql import SparkSession\n",
    "import pyspark.sql.types as T\n",
    "import pyspark.sql.functions as F\n",
    "from datetime import date\n",
    "from pyspark.sql import Window, Row\n",
    "from user_agents import parse"
   ]
  },
  {
   "cell_type": "markdown",
   "id": "356b84e3",
   "metadata": {},
   "source": [
    "# Формирование нового файла данных с информацией об устройстве и браузеру\n",
    "# на основе анализа User_agent (https://pypi.org/project/user-agents/)"
   ]
  },
  {
   "cell_type": "code",
   "execution_count": 14,
   "id": "b3eeda45",
   "metadata": {},
   "outputs": [],
   "source": [
    "import csv\n",
    "from csv import reader\n",
    "\n",
    "new_file = open('access.log.m','w+')\n",
    "csv_writer = csv.writer(new_file,delimiter=' ')\n",
    "with open('access.log','r') as file:\n",
    "    csv_reader = reader(file,delimiter=' ')\n",
    "    for line in csv_reader:\n",
    "        ua_string = line[9]\n",
    "        user_agent = parse(ua_string)\n",
    "        line.append(user_agent.browser.family)\n",
    "        line.append(user_agent.device.brand)\n",
    "        csv_writer.writerow(line)"
   ]
  },
  {
   "cell_type": "markdown",
   "id": "14666fe5",
   "metadata": {},
   "source": [
    "# Создание SparkSession"
   ]
  },
  {
   "cell_type": "code",
   "execution_count": 20,
   "id": "9766b5ba",
   "metadata": {},
   "outputs": [],
   "source": [
    "spark = SparkSession.\\\n",
    "        builder.\\\n",
    "        appName(\"pyspark-notebook\").\\\n",
    "        master(\"spark://spark-master:7077\").\\\n",
    "        config(\"spark.executor.memory\", \"2g\").\\\n",
    "        getOrCreate()"
   ]
  },
  {
   "cell_type": "markdown",
   "id": "5fb50a7d",
   "metadata": {},
   "source": [
    "# Создание дата фрейма лог файла"
   ]
  },
  {
   "cell_type": "code",
   "execution_count": 4,
   "id": "21c054b3",
   "metadata": {},
   "outputs": [],
   "source": [
    "schema = T.StructType(fields=[\n",
    "    T.StructField(\"IP\", T.StringType(), True),\n",
    "    T.StructField(\"sign_1\", T.StringType(), True),\n",
    "    T.StructField(\"sign_2\", T.StringType(), True),\n",
    "    T.StructField(\"Date_access\", T.StringType(), True),\n",
    "    T.StructField(\"Date_access_\", T.StringType(), True),\n",
    "    T.StructField(\"Action\", T.StringType(), True),\n",
    "    T.StructField(\"Status\", T.IntegerType(), True),\n",
    "    T.StructField(\"Size\", T.IntegerType(), True),\n",
    "    T.StructField(\"sign_3\", T.StringType(), True),\n",
    "    T.StructField(\"User_agent\", T.StringType(), True),\n",
    "    T.StructField(\"sign_4\", T.StringType(), True),\n",
    "    \n",
    "    T.StructField(\"Browser\", T.StringType(), True),\n",
    "    T.StructField(\"Device\", T.StringType(), True),\n",
    "])"
   ]
  },
  {
   "cell_type": "code",
   "execution_count": 5,
   "id": "6a8c3144",
   "metadata": {},
   "outputs": [],
   "source": [
    "df = spark.read.csv(\"access.log.m\", schema=schema, sep=\" \")\n"
   ]
  },
  {
   "cell_type": "code",
   "execution_count": 19,
   "id": "484f88a8",
   "metadata": {},
   "outputs": [
    {
     "name": "stdout",
     "output_type": "stream",
     "text": [
      "+-------------+------+------+--------------------+------------+--------------------+------+-----+--------------------+--------------------+------+-------------+------+\n",
      "|           IP|sign_1|sign_2|         Date_access|Date_access_|              Action|Status| Size|              sign_3|          User_agent|sign_4|      Browser|Device|\n",
      "+-------------+------+------+--------------------+------------+--------------------+------+-----+--------------------+--------------------+------+-------------+------+\n",
      "| 54.36.149.41|     -|     -|[22/Jan/2019:03:5...|      +0330]|GET /filter/27|13...|   200|30577|                   -|Mozilla/5.0 (comp...|     -|    AhrefsBot|Spider|\n",
      "|  31.56.96.51|     -|     -|[22/Jan/2019:03:5...|      +0330]|GET /image/60844/...|   200| 5667|https://www.zanbi...|Mozilla/5.0 (Linu...|     -|Chrome Mobile|Huawei|\n",
      "|  31.56.96.51|     -|     -|[22/Jan/2019:03:5...|      +0330]|GET /image/61474/...|   200| 5379|https://www.zanbi...|Mozilla/5.0 (Linu...|     -|Chrome Mobile|Huawei|\n",
      "|40.77.167.129|     -|     -|[22/Jan/2019:03:5...|      +0330]|GET /image/14925/...|   200| 1696|                   -|Mozilla/5.0 (comp...|     -|      bingbot|Spider|\n",
      "|  91.99.72.15|     -|     -|[22/Jan/2019:03:5...|      +0330]|GET /product/3189...|   200|41483|                   -|Mozilla/5.0 (Wind...|     -|      Firefox|  null|\n",
      "|40.77.167.129|     -|     -|[22/Jan/2019:03:5...|      +0330]|GET /image/23488/...|   200| 2654|                   -|Mozilla/5.0 (comp...|     -|      bingbot|Spider|\n",
      "|40.77.167.129|     -|     -|[22/Jan/2019:03:5...|      +0330]|GET /image/45437/...|   200| 3688|                   -|Mozilla/5.0 (comp...|     -|      bingbot|Spider|\n",
      "|40.77.167.129|     -|     -|[22/Jan/2019:03:5...|      +0330]|GET /image/576/ar...|   200|14776|                   -|Mozilla/5.0 (comp...|     -|      bingbot|Spider|\n",
      "|66.249.66.194|     -|     -|[22/Jan/2019:03:5...|      +0330]|GET /filter/b41,b...|   200|34277|                   -|Mozilla/5.0 (comp...|     -|    Googlebot|Spider|\n",
      "|40.77.167.129|     -|     -|[22/Jan/2019:03:5...|      +0330]|GET /image/57710/...|   200| 1695|                   -|Mozilla/5.0 (comp...|     -|      bingbot|Spider|\n",
      "|207.46.13.136|     -|     -|[22/Jan/2019:03:5...|      +0330]|GET /product/1021...|   200|39677|                   -|Mozilla/5.0 (comp...|     -|      bingbot|Spider|\n",
      "|40.77.167.129|     -|     -|[22/Jan/2019:03:5...|      +0330]|GET /image/578/ar...|   200| 9831|                   -|Mozilla/5.0 (comp...|     -|      bingbot|Spider|\n",
      "|178.253.33.51|     -|     -|[22/Jan/2019:03:5...|      +0330]|GET /m/product/32...|   200|20406|https://www.zanbi...|Mozilla/5.0 (Linu...|     -|Chrome Mobile|   HTC|\n",
      "|40.77.167.129|     -|     -|[22/Jan/2019:03:5...|      +0330]|GET /image/6229/p...|   200| 1796|                   -|Mozilla/5.0 (comp...|     -|      bingbot|Spider|\n",
      "|  91.99.72.15|     -|     -|[22/Jan/2019:03:5...|      +0330]|GET /product/1007...|   200|41725|                   -|Mozilla/5.0 (X11;...|     -|       Chrome|  null|\n",
      "|40.77.167.129|     -|     -|[22/Jan/2019:03:5...|      +0330]|GET /image/6229/p...|   200| 2739|                   -|Mozilla/5.0 (comp...|     -|      bingbot|Spider|\n",
      "|207.46.13.136|     -|     -|[22/Jan/2019:03:5...|      +0330]|GET /product/1492...|   404|33617|                   -|Mozilla/5.0 (comp...|     -|      bingbot|Spider|\n",
      "|40.77.167.129|     -|     -|[22/Jan/2019:03:5...|      +0330]|GET /image/6248/p...|   200| 2788|                   -|Mozilla/5.0 (comp...|     -|      bingbot|Spider|\n",
      "|40.77.167.129|     -|     -|[22/Jan/2019:03:5...|      +0330]|GET /image/64815/...|   200| 3481|                   -|Mozilla/5.0 (comp...|     -|      bingbot|Spider|\n",
      "|66.249.66.194|     -|     -|[22/Jan/2019:03:5...|      +0330]|GET /m/filter/b2,...|   200|19451|                   -|Mozilla/5.0 (Linu...|     -|    Googlebot|Spider|\n",
      "+-------------+------+------+--------------------+------------+--------------------+------+-----+--------------------+--------------------+------+-------------+------+\n",
      "only showing top 20 rows\n",
      "\n"
     ]
    }
   ],
   "source": [
    "df.show()"
   ]
  },
  {
   "cell_type": "markdown",
   "id": "bc0eb7dd",
   "metadata": {},
   "source": [
    "# Проверка содержимого столбцов"
   ]
  },
  {
   "cell_type": "code",
   "execution_count": 6,
   "id": "da9699e6",
   "metadata": {},
   "outputs": [
    {
     "name": "stderr",
     "output_type": "stream",
     "text": [
      "                                                                                \r"
     ]
    },
    {
     "data": {
      "text/plain": [
       "10365152"
      ]
     },
     "execution_count": 6,
     "metadata": {},
     "output_type": "execute_result"
    }
   ],
   "source": [
    "df.count()"
   ]
  },
  {
   "cell_type": "code",
   "execution_count": 9,
   "id": "ce2f8366",
   "metadata": {},
   "outputs": [
    {
     "name": "stderr",
     "output_type": "stream",
     "text": [
      "[Stage 8:===============================================>       (174 + 2) / 200]\r"
     ]
    },
    {
     "name": "stdout",
     "output_type": "stream",
     "text": [
      "+---------------+------+\n",
      "|             IP| activ|\n",
      "+---------------+------+\n",
      "|  66.249.66.194|353483|\n",
      "|   66.249.66.91|314522|\n",
      "|151.239.241.163| 92475|\n",
      "|   66.249.66.92| 88332|\n",
      "|    91.99.30.32| 45979|\n",
      "|  104.222.32.91| 42058|\n",
      "|    91.99.72.15| 38694|\n",
      "|    91.99.47.57| 38612|\n",
      "|   5.78.190.233| 37204|\n",
      "|195.181.168.181| 27979|\n",
      "|   23.101.169.3| 27800|\n",
      "|195.181.168.164| 24044|\n",
      "|   66.249.66.93| 22146|\n",
      "|   17.58.102.43| 21698|\n",
      "|  104.222.32.94| 16706|\n",
      "|   5.160.157.20| 13526|\n",
      "|  5.117.116.238| 13427|\n",
      "|   5.160.221.38| 12058|\n",
      "|   172.20.2.174| 11303|\n",
      "|  40.77.167.156| 10231|\n",
      "+---------------+------+\n",
      "only showing top 20 rows\n",
      "\n"
     ]
    },
    {
     "name": "stderr",
     "output_type": "stream",
     "text": [
      "                                                                                \r"
     ]
    }
   ],
   "source": [
    "df.groupby(\"IP\")\\\n",
    "   .agg(F.count(\"*\").alias(\"activ\"))\\\n",
    "   .orderBy(\"activ\", ascending = False)\\\n",
    "   .show()"
   ]
  },
  {
   "cell_type": "code",
   "execution_count": 8,
   "id": "f753a143",
   "metadata": {},
   "outputs": [
    {
     "name": "stderr",
     "output_type": "stream",
     "text": [
      "[Stage 5:=====================================================> (195 + 2) / 200]\r"
     ]
    },
    {
     "name": "stdout",
     "output_type": "stream",
     "text": [
      "+----------+\n",
      "|sum(activ)|\n",
      "+----------+\n",
      "|  10365152|\n",
      "+----------+\n",
      "\n"
     ]
    },
    {
     "name": "stderr",
     "output_type": "stream",
     "text": [
      "                                                                                \r"
     ]
    }
   ],
   "source": [
    " df.groupby(\"IP\")\\\n",
    "    .agg(F.count(\"*\").alias(\"activ\"))\\\n",
    "    .orderBy(\"activ\", ascending = False)\\\n",
    "    .agg(F.sum(\"activ\"))\\\n",
    "    .show()"
   ]
  },
  {
   "cell_type": "code",
   "execution_count": 10,
   "id": "bbe36dca",
   "metadata": {},
   "outputs": [
    {
     "name": "stderr",
     "output_type": "stream",
     "text": [
      "[Stage 10:===========================================>          (162 + 3) / 200]\r"
     ]
    },
    {
     "name": "stdout",
     "output_type": "stream",
     "text": [
      "+------+--------+\n",
      "|sign_1|   activ|\n",
      "+------+--------+\n",
      "|     -|10365152|\n",
      "+------+--------+\n",
      "\n"
     ]
    },
    {
     "name": "stderr",
     "output_type": "stream",
     "text": [
      "                                                                                \r"
     ]
    }
   ],
   "source": [
    "df.groupby(\"sign_1\")\\\n",
    "   .agg(F.count(\"*\").alias(\"activ\"))\\\n",
    "   .orderBy(\"activ\", ascending = False)\\\n",
    "   .show()"
   ]
  },
  {
   "cell_type": "code",
   "execution_count": 11,
   "id": "1e90eef3",
   "metadata": {},
   "outputs": [
    {
     "name": "stderr",
     "output_type": "stream",
     "text": [
      "[Stage 12:=======================================>              (145 + 2) / 200]\r"
     ]
    },
    {
     "name": "stdout",
     "output_type": "stream",
     "text": [
      "+------+--------+\n",
      "|sign_2|   activ|\n",
      "+------+--------+\n",
      "|     -|10365150|\n",
      "| admin|       2|\n",
      "+------+--------+\n",
      "\n"
     ]
    },
    {
     "name": "stderr",
     "output_type": "stream",
     "text": [
      "                                                                                \r"
     ]
    }
   ],
   "source": [
    "df.groupby(\"sign_2\")\\\n",
    "   .agg(F.count(\"*\").alias(\"activ\"))\\\n",
    "   .orderBy(\"activ\", ascending = False)\\\n",
    "   .show()"
   ]
  },
  {
   "cell_type": "code",
   "execution_count": 12,
   "id": "800ed485",
   "metadata": {},
   "outputs": [
    {
     "name": "stderr",
     "output_type": "stream",
     "text": [
      "[Stage 14:===================================================>  (192 + 3) / 200]\r"
     ]
    },
    {
     "name": "stdout",
     "output_type": "stream",
     "text": [
      "+--------------------+-------+\n",
      "|              sign_3|  activ|\n",
      "+--------------------+-------+\n",
      "|                   -|1646359|\n",
      "|https://www.zanbi...| 494757|\n",
      "|https://znbl.ir/s...| 387201|\n",
      "|https://www.zanbi...| 219555|\n",
      "|https://www.zanbi...| 128879|\n",
      "|https://www.googl...|  98420|\n",
      "|https://www.zanbi...|  87726|\n",
      "|https://www.zanbi...|  79234|\n",
      "|https://www.zanbi...|  74759|\n",
      "|https://www.zanbi...|  59470|\n",
      "|https://www.zanbi...|  58560|\n",
      "|https://www.zanbi...|  47157|\n",
      "|https://www.zanbi...|  47099|\n",
      "|https://www.zanbi...|  44634|\n",
      "|https://www.zanbi...|  43465|\n",
      "|https://www.zanbi...|  38379|\n",
      "|https://www.zanbi...|  37637|\n",
      "|https://www.zanbi...|  31163|\n",
      "|https://www.zanbi...|  30780|\n",
      "|https://www.zanbi...|  30009|\n",
      "+--------------------+-------+\n",
      "only showing top 20 rows\n",
      "\n"
     ]
    },
    {
     "name": "stderr",
     "output_type": "stream",
     "text": [
      "                                                                                \r"
     ]
    }
   ],
   "source": [
    "df.groupby(\"sign_3\")\\\n",
    "   .agg(F.count(\"*\").alias(\"activ\"))\\\n",
    "   .orderBy(\"activ\", ascending = False)\\\n",
    "   .show()"
   ]
  },
  {
   "cell_type": "code",
   "execution_count": 13,
   "id": "455e993c",
   "metadata": {},
   "outputs": [
    {
     "name": "stderr",
     "output_type": "stream",
     "text": [
      "[Stage 16:=====================================================>(197 + 2) / 200]\r"
     ]
    },
    {
     "name": "stdout",
     "output_type": "stream",
     "text": [
      "+----------+\n",
      "|sum(activ)|\n",
      "+----------+\n",
      "|  10365152|\n",
      "+----------+\n",
      "\n"
     ]
    },
    {
     "name": "stderr",
     "output_type": "stream",
     "text": [
      "                                                                                \r"
     ]
    }
   ],
   "source": [
    "df.groupby(\"sign_3\")\\\n",
    "    .agg(F.count(\"*\").alias(\"activ\"))\\\n",
    "    .orderBy(\"activ\", ascending = False)\\\n",
    "    .agg(F.sum(\"activ\"))\\\n",
    "    .show()"
   ]
  },
  {
   "cell_type": "code",
   "execution_count": 14,
   "id": "24d1463a",
   "metadata": {},
   "outputs": [
    {
     "name": "stderr",
     "output_type": "stream",
     "text": [
      "[Stage 19:================================================>     (181 + 2) / 200]\r"
     ]
    },
    {
     "name": "stdout",
     "output_type": "stream",
     "text": [
      "+--------------+--------+\n",
      "|        sign_4|   activ|\n",
      "+--------------+--------+\n",
      "|             -|10341086|\n",
      "|  5.127.61.214|     526|\n",
      "|  51.38.89.157|     464|\n",
      "|  5.112.171.19|     365|\n",
      "|  5.218.20.237|     263|\n",
      "|  46.51.51.189|     262|\n",
      "|  5.134.139.78|     229|\n",
      "|  83.121.197.9|     224|\n",
      "|   5.218.73.35|     223|\n",
      "| 185.246.4.210|     221|\n",
      "|  5.120.175.61|     207|\n",
      "| 89.198.135.67|     195|\n",
      "| 46.209.15.186|     176|\n",
      "|109.202.101.52|     165|\n",
      "| 5.134.188.153|     163|\n",
      "|   5.212.3.136|     162|\n",
      "|  5.116.42.218|     160|\n",
      "|    204.18.7.7|     158|\n",
      "|  5.123.210.42|     145|\n",
      "| 5.208.184.113|     136|\n",
      "+--------------+--------+\n",
      "only showing top 20 rows\n",
      "\n"
     ]
    },
    {
     "name": "stderr",
     "output_type": "stream",
     "text": [
      "                                                                                \r"
     ]
    }
   ],
   "source": [
    "df.groupby(\"sign_4\")\\\n",
    "   .agg(F.count(\"*\").alias(\"activ\"))\\\n",
    "   .orderBy(\"activ\", ascending = False)\\\n",
    "   .show()"
   ]
  },
  {
   "cell_type": "code",
   "execution_count": 15,
   "id": "f9fcb12c",
   "metadata": {},
   "outputs": [
    {
     "name": "stderr",
     "output_type": "stream",
     "text": [
      "[Stage 21:============================================>         (166 + 2) / 200]\r"
     ]
    },
    {
     "name": "stdout",
     "output_type": "stream",
     "text": [
      "+----------+\n",
      "|sum(activ)|\n",
      "+----------+\n",
      "|  10365152|\n",
      "+----------+\n",
      "\n"
     ]
    },
    {
     "name": "stderr",
     "output_type": "stream",
     "text": [
      "                                                                                \r"
     ]
    }
   ],
   "source": [
    "df.groupby(\"sign_4\")\\\n",
    "    .agg(F.count(\"*\").alias(\"activ\"))\\\n",
    "    .orderBy(\"activ\", ascending = False)\\\n",
    "    .agg(F.sum(\"activ\"))\\\n",
    "    .show()"
   ]
  },
  {
   "cell_type": "code",
   "execution_count": 16,
   "id": "b7dc996e",
   "metadata": {},
   "outputs": [
    {
     "name": "stderr",
     "output_type": "stream",
     "text": [
      "[Stage 24:======================================>               (141 + 2) / 200]\r"
     ]
    },
    {
     "name": "stdout",
     "output_type": "stream",
     "text": [
      "+------------+--------+\n",
      "|Date_access_|   activ|\n",
      "+------------+--------+\n",
      "|      +0330]|10365152|\n",
      "+------------+--------+\n",
      "\n"
     ]
    },
    {
     "name": "stderr",
     "output_type": "stream",
     "text": [
      "                                                                                \r"
     ]
    }
   ],
   "source": [
    "df.groupby(\"Date_access_\")\\\n",
    "   .agg(F.count(\"*\").alias(\"activ\"))\\\n",
    "   .orderBy(\"activ\", ascending = False)\\\n",
    "   .show()"
   ]
  },
  {
   "cell_type": "markdown",
   "id": "d0d336bd",
   "metadata": {},
   "source": [
    "# Убираем неинформативные столбцы. Получаем базовую таблицу"
   ]
  },
  {
   "cell_type": "code",
   "execution_count": 17,
   "id": "de69e3b3",
   "metadata": {},
   "outputs": [
    {
     "name": "stdout",
     "output_type": "stream",
     "text": [
      "+-------------+--------------------+--------------------+------+-----+--------------------+-------------+------+\n",
      "|           IP|         Date_access|              Action|Status| Size|          User_agent|      Browser|Device|\n",
      "+-------------+--------------------+--------------------+------+-----+--------------------+-------------+------+\n",
      "| 54.36.149.41|[22/Jan/2019:03:5...|GET /filter/27|13...|   200|30577|Mozilla/5.0 (comp...|    AhrefsBot|Spider|\n",
      "|  31.56.96.51|[22/Jan/2019:03:5...|GET /image/60844/...|   200| 5667|Mozilla/5.0 (Linu...|Chrome Mobile|Huawei|\n",
      "|  31.56.96.51|[22/Jan/2019:03:5...|GET /image/61474/...|   200| 5379|Mozilla/5.0 (Linu...|Chrome Mobile|Huawei|\n",
      "|40.77.167.129|[22/Jan/2019:03:5...|GET /image/14925/...|   200| 1696|Mozilla/5.0 (comp...|      bingbot|Spider|\n",
      "|  91.99.72.15|[22/Jan/2019:03:5...|GET /product/3189...|   200|41483|Mozilla/5.0 (Wind...|      Firefox|  null|\n",
      "|40.77.167.129|[22/Jan/2019:03:5...|GET /image/23488/...|   200| 2654|Mozilla/5.0 (comp...|      bingbot|Spider|\n",
      "|40.77.167.129|[22/Jan/2019:03:5...|GET /image/45437/...|   200| 3688|Mozilla/5.0 (comp...|      bingbot|Spider|\n",
      "|40.77.167.129|[22/Jan/2019:03:5...|GET /image/576/ar...|   200|14776|Mozilla/5.0 (comp...|      bingbot|Spider|\n",
      "|66.249.66.194|[22/Jan/2019:03:5...|GET /filter/b41,b...|   200|34277|Mozilla/5.0 (comp...|    Googlebot|Spider|\n",
      "|40.77.167.129|[22/Jan/2019:03:5...|GET /image/57710/...|   200| 1695|Mozilla/5.0 (comp...|      bingbot|Spider|\n",
      "|207.46.13.136|[22/Jan/2019:03:5...|GET /product/1021...|   200|39677|Mozilla/5.0 (comp...|      bingbot|Spider|\n",
      "|40.77.167.129|[22/Jan/2019:03:5...|GET /image/578/ar...|   200| 9831|Mozilla/5.0 (comp...|      bingbot|Spider|\n",
      "|178.253.33.51|[22/Jan/2019:03:5...|GET /m/product/32...|   200|20406|Mozilla/5.0 (Linu...|Chrome Mobile|   HTC|\n",
      "|40.77.167.129|[22/Jan/2019:03:5...|GET /image/6229/p...|   200| 1796|Mozilla/5.0 (comp...|      bingbot|Spider|\n",
      "|  91.99.72.15|[22/Jan/2019:03:5...|GET /product/1007...|   200|41725|Mozilla/5.0 (X11;...|       Chrome|  null|\n",
      "|40.77.167.129|[22/Jan/2019:03:5...|GET /image/6229/p...|   200| 2739|Mozilla/5.0 (comp...|      bingbot|Spider|\n",
      "|207.46.13.136|[22/Jan/2019:03:5...|GET /product/1492...|   404|33617|Mozilla/5.0 (comp...|      bingbot|Spider|\n",
      "|40.77.167.129|[22/Jan/2019:03:5...|GET /image/6248/p...|   200| 2788|Mozilla/5.0 (comp...|      bingbot|Spider|\n",
      "|40.77.167.129|[22/Jan/2019:03:5...|GET /image/64815/...|   200| 3481|Mozilla/5.0 (comp...|      bingbot|Spider|\n",
      "|66.249.66.194|[22/Jan/2019:03:5...|GET /m/filter/b2,...|   200|19451|Mozilla/5.0 (Linu...|    Googlebot|Spider|\n",
      "+-------------+--------------------+--------------------+------+-----+--------------------+-------------+------+\n",
      "only showing top 20 rows\n",
      "\n"
     ]
    }
   ],
   "source": [
    "df_Base = df.drop(\"sign_1\", \"sign_2\", \"Date_access_\", \"sign_3\", \"sign_4\")\n",
    "df_Base.show()"
   ]
  },
  {
   "cell_type": "markdown",
   "id": "a32da869",
   "metadata": {},
   "source": [
    "# Заменяем нулевые значения дата-фрейма на \"other\""
   ]
  },
  {
   "cell_type": "code",
   "execution_count": 18,
   "id": "632393a0",
   "metadata": {},
   "outputs": [
    {
     "name": "stdout",
     "output_type": "stream",
     "text": [
      "+-------------+--------------------+--------------------+------+-----+--------------------+-------------+------+\n",
      "|           IP|         Date_access|              Action|Status| Size|          User_agent|      Browser|Device|\n",
      "+-------------+--------------------+--------------------+------+-----+--------------------+-------------+------+\n",
      "| 54.36.149.41|[22/Jan/2019:03:5...|GET /filter/27|13...|   200|30577|Mozilla/5.0 (comp...|    AhrefsBot|Spider|\n",
      "|  31.56.96.51|[22/Jan/2019:03:5...|GET /image/60844/...|   200| 5667|Mozilla/5.0 (Linu...|Chrome Mobile|Huawei|\n",
      "|  31.56.96.51|[22/Jan/2019:03:5...|GET /image/61474/...|   200| 5379|Mozilla/5.0 (Linu...|Chrome Mobile|Huawei|\n",
      "|40.77.167.129|[22/Jan/2019:03:5...|GET /image/14925/...|   200| 1696|Mozilla/5.0 (comp...|      bingbot|Spider|\n",
      "|  91.99.72.15|[22/Jan/2019:03:5...|GET /product/3189...|   200|41483|Mozilla/5.0 (Wind...|      Firefox| other|\n",
      "|40.77.167.129|[22/Jan/2019:03:5...|GET /image/23488/...|   200| 2654|Mozilla/5.0 (comp...|      bingbot|Spider|\n",
      "|40.77.167.129|[22/Jan/2019:03:5...|GET /image/45437/...|   200| 3688|Mozilla/5.0 (comp...|      bingbot|Spider|\n",
      "|40.77.167.129|[22/Jan/2019:03:5...|GET /image/576/ar...|   200|14776|Mozilla/5.0 (comp...|      bingbot|Spider|\n",
      "|66.249.66.194|[22/Jan/2019:03:5...|GET /filter/b41,b...|   200|34277|Mozilla/5.0 (comp...|    Googlebot|Spider|\n",
      "|40.77.167.129|[22/Jan/2019:03:5...|GET /image/57710/...|   200| 1695|Mozilla/5.0 (comp...|      bingbot|Spider|\n",
      "|207.46.13.136|[22/Jan/2019:03:5...|GET /product/1021...|   200|39677|Mozilla/5.0 (comp...|      bingbot|Spider|\n",
      "|40.77.167.129|[22/Jan/2019:03:5...|GET /image/578/ar...|   200| 9831|Mozilla/5.0 (comp...|      bingbot|Spider|\n",
      "|178.253.33.51|[22/Jan/2019:03:5...|GET /m/product/32...|   200|20406|Mozilla/5.0 (Linu...|Chrome Mobile|   HTC|\n",
      "|40.77.167.129|[22/Jan/2019:03:5...|GET /image/6229/p...|   200| 1796|Mozilla/5.0 (comp...|      bingbot|Spider|\n",
      "|  91.99.72.15|[22/Jan/2019:03:5...|GET /product/1007...|   200|41725|Mozilla/5.0 (X11;...|       Chrome| other|\n",
      "|40.77.167.129|[22/Jan/2019:03:5...|GET /image/6229/p...|   200| 2739|Mozilla/5.0 (comp...|      bingbot|Spider|\n",
      "|207.46.13.136|[22/Jan/2019:03:5...|GET /product/1492...|   404|33617|Mozilla/5.0 (comp...|      bingbot|Spider|\n",
      "|40.77.167.129|[22/Jan/2019:03:5...|GET /image/6248/p...|   200| 2788|Mozilla/5.0 (comp...|      bingbot|Spider|\n",
      "|40.77.167.129|[22/Jan/2019:03:5...|GET /image/64815/...|   200| 3481|Mozilla/5.0 (comp...|      bingbot|Spider|\n",
      "|66.249.66.194|[22/Jan/2019:03:5...|GET /m/filter/b2,...|   200|19451|Mozilla/5.0 (Linu...|    Googlebot|Spider|\n",
      "+-------------+--------------------+--------------------+------+-----+--------------------+-------------+------+\n",
      "only showing top 20 rows\n",
      "\n"
     ]
    }
   ],
   "source": [
    "df_Base = df_Base.na.fill(\"other\")\n",
    "df_Base.show()"
   ]
  },
  {
   "cell_type": "markdown",
   "id": "073d80a2",
   "metadata": {},
   "source": [
    "# Формирование таблицы 1 \"Устройства по пользователям\""
   ]
  },
  {
   "cell_type": "code",
   "execution_count": 19,
   "id": "1db890ae",
   "metadata": {},
   "outputs": [
    {
     "name": "stderr",
     "output_type": "stream",
     "text": [
      "                                                                                \r"
     ]
    },
    {
     "name": "stdout",
     "output_type": "stream",
     "text": [
      "+--------------------+-----------+\n",
      "|              Device|Count_Users|\n",
      "+--------------------+-----------+\n",
      "|               other|    5204250|\n",
      "|             Samsung|    1845565|\n",
      "|              Spider|    1109418|\n",
      "|               Apple|     742633|\n",
      "|              Huawei|     555636|\n",
      "|             Generic|     176737|\n",
      "|                  LG|     173070|\n",
      "|     Generic_Android|     140957|\n",
      "|                Sony|      78339|\n",
      "|                 HTC|      74043|\n",
      "|              Lenovo|      59090|\n",
      "|              XiaoMi|      54380|\n",
      "|Generic_Android_T...|      47866|\n",
      "|               Nokia|      38581|\n",
      "|                Asus|      29729|\n",
      "|        SonyEricsson|      14810|\n",
      "|            Micromax|       5022|\n",
      "|            Motorola|       3172|\n",
      "|                 ZTE|       2346|\n",
      "|               Tecno|       2262|\n",
      "+--------------------+-----------+\n",
      "only showing top 20 rows\n",
      "\n"
     ]
    }
   ],
   "source": [
    "df_Devices = df_Base.groupby('Device')\\\n",
    "             .agg(F.count('IP').alias('Count_Users'))\\\n",
    "             .withColumn('Count_Users',F.col('Count_Users'))\\\n",
    "             .orderBy('Count_Users', ascending = False)\n",
    "             \n",
    "df_Devices.show()"
   ]
  },
  {
   "cell_type": "code",
   "execution_count": 22,
   "id": "e10c2202",
   "metadata": {},
   "outputs": [
    {
     "name": "stderr",
     "output_type": "stream",
     "text": [
      "23/01/23 21:31:12 WARN WindowExec: No Partition Defined for Window operation! Moving all data to a single partition, this can cause serious performance degradation.\n",
      "[Stage 32:=================================================>    (182 + 2) / 200]\r"
     ]
    },
    {
     "name": "stdout",
     "output_type": "stream",
     "text": [
      "+--------------------+-----------+-----------+\n",
      "|              Device|Count_Users|Ratio_Users|\n",
      "+--------------------+-----------+-----------+\n",
      "|               other|    5204250|    0.50209|\n",
      "|             Samsung|    1845565|    0.17805|\n",
      "|               Apple|     742633|    0.07165|\n",
      "|              Huawei|     555636|    0.05361|\n",
      "|             Generic|     176737|    0.01705|\n",
      "|                  LG|     173070|     0.0167|\n",
      "|                Sony|      78339|    0.00756|\n",
      "|                 HTC|      74043|    0.00714|\n",
      "|              Lenovo|      59090|     0.0057|\n",
      "|              XiaoMi|      54380|    0.00525|\n",
      "|Generic_Android_T...|      47866|    0.00462|\n",
      "|               Nokia|      38581|    0.00372|\n",
      "|                Asus|      29729|    0.00287|\n",
      "|        SonyEricsson|      14810|    0.00143|\n",
      "|            Micromax|       5022|     4.8E-4|\n",
      "|               Tecno|       2262|     2.2E-4|\n",
      "|           Microsoft|       1302|     1.3E-4|\n",
      "|             Alcatel|        975|     9.0E-5|\n",
      "|           Prestigio|        565|     5.0E-5|\n",
      "|              Google|        408|     4.0E-5|\n",
      "+--------------------+-----------+-----------+\n",
      "only showing top 20 rows\n",
      "\n"
     ]
    },
    {
     "name": "stderr",
     "output_type": "stream",
     "text": [
      "                                                                                \r"
     ]
    }
   ],
   "source": [
    "df_Devices_Users = df_Devices.withColumn('All_Users', F.sum('Count_Users').over(Window.partitionBy()))\\\n",
    "            .withColumn('Ratio_Users', F.round(F.col('Count_Users') / F.col('All_Users'), 5))\\\n",
    "            .select('Device', 'Count_Users', 'Ratio_Users')\n",
    "       \n",
    "df_Devices_Users.show()\n"
   ]
  },
  {
   "cell_type": "markdown",
   "id": "459af5e3",
   "metadata": {},
   "source": [
    "# Формирование таблицы 2 \"Устройства по действиям\""
   ]
  },
  {
   "cell_type": "code",
   "execution_count": 23,
   "id": "b9423ba9",
   "metadata": {},
   "outputs": [
    {
     "name": "stderr",
     "output_type": "stream",
     "text": [
      "[Stage 36:=====================================>                (139 + 3) / 200]\r"
     ]
    },
    {
     "name": "stdout",
     "output_type": "stream",
     "text": [
      "+--------------------+-------------+\n",
      "|              Device|Count_Actions|\n",
      "+--------------------+-------------+\n",
      "|               other|      5204250|\n",
      "|             Samsung|      1845565|\n",
      "|              Spider|      1109418|\n",
      "|               Apple|       742633|\n",
      "|              Huawei|       555636|\n",
      "|             Generic|       176737|\n",
      "|                  LG|       173070|\n",
      "|     Generic_Android|       140957|\n",
      "|                Sony|        78339|\n",
      "|                 HTC|        74043|\n",
      "|              Lenovo|        59090|\n",
      "|              XiaoMi|        54380|\n",
      "|Generic_Android_T...|        47866|\n",
      "|               Nokia|        38581|\n",
      "|                Asus|        29729|\n",
      "|        SonyEricsson|        14810|\n",
      "|            Micromax|         5022|\n",
      "|            Motorola|         3172|\n",
      "|                 ZTE|         2346|\n",
      "|               Tecno|         2262|\n",
      "+--------------------+-------------+\n",
      "only showing top 20 rows\n",
      "\n"
     ]
    },
    {
     "name": "stderr",
     "output_type": "stream",
     "text": [
      "                                                                                \r"
     ]
    }
   ],
   "source": [
    "df_Devices_ = df_Base.groupby('Device')\\\n",
    "             .agg(F.count('Action').alias('Count_Actions'))\\\n",
    "             .withColumn('Count_Actions',F.col('Count_Actions'))\\\n",
    "             .orderBy('Count_Actions', ascending = False)\n",
    "             \n",
    "df_Devices_.show()"
   ]
  },
  {
   "cell_type": "code",
   "execution_count": 24,
   "id": "af8e5d8c",
   "metadata": {},
   "outputs": [
    {
     "name": "stderr",
     "output_type": "stream",
     "text": [
      "23/01/23 21:33:02 WARN WindowExec: No Partition Defined for Window operation! Moving all data to a single partition, this can cause serious performance degradation.\n",
      "[Stage 40:============================================>         (165 + 2) / 200]\r"
     ]
    },
    {
     "name": "stdout",
     "output_type": "stream",
     "text": [
      "+--------------------+-------------+-------------+\n",
      "|              Device|Count_Actions|Ratio_Actions|\n",
      "+--------------------+-------------+-------------+\n",
      "|             Samsung|      1845565|      0.17805|\n",
      "|              Spider|      1109418|      0.10703|\n",
      "|               Apple|       742633|      0.07165|\n",
      "|              Huawei|       555636|      0.05361|\n",
      "|             Generic|       176737|      0.01705|\n",
      "|Generic_Android_T...|        47866|      0.00462|\n",
      "|        SonyEricsson|        14810|      0.00143|\n",
      "|            Motorola|         3172|       3.1E-4|\n",
      "|               Tecno|         2262|       2.2E-4|\n",
      "|           Microsoft|         1302|       1.3E-4|\n",
      "|           Prestigio|          565|       5.0E-5|\n",
      "|              Google|          408|       4.0E-5|\n",
      "|                Acer|          260|       3.0E-5|\n",
      "|               Umeox|          259|       2.0E-5|\n",
      "|                  HP|          214|       2.0E-5|\n",
      "|                vivo|          179|       2.0E-5|\n",
      "|               Cubot|           80|       1.0E-5|\n",
      "|              Archos|           66|       1.0E-5|\n",
      "|                Zopo|           61|       1.0E-5|\n",
      "|                 RCA|           35|          0.0|\n",
      "+--------------------+-------------+-------------+\n",
      "only showing top 20 rows\n",
      "\n"
     ]
    },
    {
     "name": "stderr",
     "output_type": "stream",
     "text": [
      "                                                                                \r"
     ]
    }
   ],
   "source": [
    "df_Devices_Actions = df_Devices_.withColumn('All_Actions', F.sum('Count_Actions').over(Window.partitionBy()))\\\n",
    "            .withColumn('Ratio_Actions', F.round(F.col('Count_Actions') / F.col('All_Actions'), 5))\\\n",
    "            .select('Device', 'Count_Actions', 'Ratio_Actions')\n",
    "       \n",
    "df_Devices_Actions.show()"
   ]
  },
  {
   "cell_type": "markdown",
   "id": "521dc3e5",
   "metadata": {},
   "source": [
    "# Соединение таблиц 1 и 2"
   ]
  },
  {
   "cell_type": "code",
   "execution_count": 25,
   "id": "222353b8",
   "metadata": {},
   "outputs": [
    {
     "name": "stderr",
     "output_type": "stream",
     "text": [
      "23/01/23 21:34:28 WARN WindowExec: No Partition Defined for Window operation! Moving all data to a single partition, this can cause serious performance degradation.\n",
      "23/01/23 21:34:28 WARN WindowExec: No Partition Defined for Window operation! Moving all data to a single partition, this can cause serious performance degradation.\n",
      "[Stage 50:=============================================>        (169 + 2) / 200]\r"
     ]
    },
    {
     "name": "stdout",
     "output_type": "stream",
     "text": [
      "+--------------------+-----------+-----------+-------------+-------------+\n",
      "|              Device|Count_Users|Ratio_Users|Count_Actions|Ratio_Actions|\n",
      "+--------------------+-----------+-----------+-------------+-------------+\n",
      "|                Acer|        260|     3.0E-5|          260|       3.0E-5|\n",
      "|             Alcatel|        975|     9.0E-5|          975|       9.0E-5|\n",
      "|              Amazon|          4|        0.0|            4|          0.0|\n",
      "|               Aoson|         27|        0.0|           27|          0.0|\n",
      "|               Apple|     742633|    0.07165|       742633|      0.07165|\n",
      "|              Archos|         66|     1.0E-5|           66|       1.0E-5|\n",
      "|                Asus|      29729|    0.00287|        29729|      0.00287|\n",
      "|          BlackBerry|        545|     5.0E-5|          545|       5.0E-5|\n",
      "|                 Blu|          1|        0.0|            1|          0.0|\n",
      "|             Coolpad|         32|        0.0|           32|          0.0|\n",
      "|               Cubot|         80|     1.0E-5|           80|       1.0E-5|\n",
      "|                 Fly|        163|     2.0E-5|          163|       2.0E-5|\n",
      "|             Generic|     176737|    0.01705|       176737|      0.01705|\n",
      "|     Generic_Android|     140957|     0.0136|       140957|       0.0136|\n",
      "|Generic_Android_T...|      47866|    0.00462|        47866|      0.00462|\n",
      "|               Gfive|         29|        0.0|           29|          0.0|\n",
      "|            Gigabyte|         68|     1.0E-5|           68|       1.0E-5|\n",
      "|              Google|        408|     4.0E-5|          408|       4.0E-5|\n",
      "|                  HP|        214|     2.0E-5|          214|       2.0E-5|\n",
      "|                 HTC|      74043|    0.00714|        74043|      0.00714|\n",
      "+--------------------+-----------+-----------+-------------+-------------+\n",
      "only showing top 20 rows\n",
      "\n"
     ]
    },
    {
     "name": "stderr",
     "output_type": "stream",
     "text": [
      "                                                                                \r"
     ]
    }
   ],
   "source": [
    "df_Devices_About = df_Devices_Users.join(df_Devices_Actions, [\"Device\"])\n",
    "df_Devices_About.show()"
   ]
  },
  {
   "cell_type": "markdown",
   "id": "1073af3e",
   "metadata": {},
   "source": [
    "# Создание суррогатного ключа"
   ]
  },
  {
   "cell_type": "code",
   "execution_count": 26,
   "id": "0657a428",
   "metadata": {},
   "outputs": [
    {
     "name": "stderr",
     "output_type": "stream",
     "text": [
      "23/01/23 21:35:17 WARN WindowExec: No Partition Defined for Window operation! Moving all data to a single partition, this can cause serious performance degradation.\n",
      "23/01/23 21:35:17 WARN WindowExec: No Partition Defined for Window operation! Moving all data to a single partition, this can cause serious performance degradation.\n",
      "23/01/23 21:35:17 WARN WindowExec: No Partition Defined for Window operation! Moving all data to a single partition, this can cause serious performance degradation.\n",
      "[Stage 60:============================================>         (165 + 2) / 200]\r"
     ]
    },
    {
     "name": "stdout",
     "output_type": "stream",
     "text": [
      "+--------------------+-----------+-----------+-------------+-------------+---------+\n",
      "|              Device|Count_Users|Ratio_Users|Count_Actions|Ratio_Actions|id_device|\n",
      "+--------------------+-----------+-----------+-------------+-------------+---------+\n",
      "|                Acer|        260|     3.0E-5|          260|       3.0E-5|        1|\n",
      "|             Alcatel|        975|     9.0E-5|          975|       9.0E-5|        2|\n",
      "|              Amazon|          4|        0.0|            4|          0.0|        3|\n",
      "|               Aoson|         27|        0.0|           27|          0.0|        4|\n",
      "|               Apple|     742633|    0.07165|       742633|      0.07165|        5|\n",
      "|              Archos|         66|     1.0E-5|           66|       1.0E-5|        6|\n",
      "|                Asus|      29729|    0.00287|        29729|      0.00287|        7|\n",
      "|          BlackBerry|        545|     5.0E-5|          545|       5.0E-5|        8|\n",
      "|                 Blu|          1|        0.0|            1|          0.0|        9|\n",
      "|             Coolpad|         32|        0.0|           32|          0.0|       10|\n",
      "|               Cubot|         80|     1.0E-5|           80|       1.0E-5|       11|\n",
      "|                 Fly|        163|     2.0E-5|          163|       2.0E-5|       12|\n",
      "|             Generic|     176737|    0.01705|       176737|      0.01705|       13|\n",
      "|     Generic_Android|     140957|     0.0136|       140957|       0.0136|       14|\n",
      "|Generic_Android_T...|      47866|    0.00462|        47866|      0.00462|       15|\n",
      "|               Gfive|         29|        0.0|           29|          0.0|       16|\n",
      "|            Gigabyte|         68|     1.0E-5|           68|       1.0E-5|       17|\n",
      "|              Google|        408|     4.0E-5|          408|       4.0E-5|       18|\n",
      "|                  HP|        214|     2.0E-5|          214|       2.0E-5|       19|\n",
      "|                 HTC|      74043|    0.00714|        74043|      0.00714|       20|\n",
      "+--------------------+-----------+-----------+-------------+-------------+---------+\n",
      "only showing top 20 rows\n",
      "\n"
     ]
    },
    {
     "name": "stderr",
     "output_type": "stream",
     "text": [
      "                                                                                \r"
     ]
    }
   ],
   "source": [
    "df_Devices_About = df_Devices_About.withColumn('original_order', F.monotonically_increasing_id())\n",
    "df_Devices_About = df_Devices_About.withColumn('id_device', F.row_number().over(Window.orderBy('original_order')))\n",
    "df_Devices_About = df_Devices_About.drop('original_order')\n",
    "df_Devices_About.show()"
   ]
  },
  {
   "cell_type": "markdown",
   "id": "540e77a6",
   "metadata": {},
   "source": [
    "# Сохранение результирующего дата фрейма \"Характеристики устройств\" в файл"
   ]
  },
  {
   "cell_type": "code",
   "execution_count": 27,
   "id": "86d682d2",
   "metadata": {},
   "outputs": [
    {
     "name": "stderr",
     "output_type": "stream",
     "text": [
      "23/01/23 21:36:07 WARN WindowExec: No Partition Defined for Window operation! Moving all data to a single partition, this can cause serious performance degradation.\n",
      "23/01/23 21:36:07 WARN WindowExec: No Partition Defined for Window operation! Moving all data to a single partition, this can cause serious performance degradation.\n",
      "23/01/23 21:36:07 WARN WindowExec: No Partition Defined for Window operation! Moving all data to a single partition, this can cause serious performance degradation.\n",
      "                                                                                \r"
     ]
    }
   ],
   "source": [
    "df_Devices_About.toPandas().to_csv('Devices_About.txt',mode='w+',header=True,index=False)"
   ]
  },
  {
   "cell_type": "markdown",
   "id": "487e1096",
   "metadata": {},
   "source": [
    "# Формирование таблицы 3 \"Браузеры\""
   ]
  },
  {
   "cell_type": "code",
   "execution_count": 28,
   "id": "74d62e00",
   "metadata": {},
   "outputs": [
    {
     "name": "stderr",
     "output_type": "stream",
     "text": [
      "[Stage 73:======================================================> (27 + 1) / 28]\r"
     ]
    },
    {
     "name": "stdout",
     "output_type": "stream",
     "text": [
      "+---------------+--------------------+-------------+\n",
      "|         Device|             Browser|Count_Browser|\n",
      "+---------------+--------------------+-------------+\n",
      "|          other|    Samsung Internet|         2703|\n",
      "|         Spider|            heritrix|           20|\n",
      "|          Apple|   Chrome Mobile iOS|        73520|\n",
      "|          other|             Maxthon|         4444|\n",
      "|          Apple|         Firefox iOS|         7127|\n",
      "|   SonyEricsson|Chrome Mobile Web...|          315|\n",
      "|          Nokia|              Google|           73|\n",
      "|          Apple|            Applebot|        21783|\n",
      "|          other|       GooglePlusBot|           77|\n",
      "|            HTC|               Other|           33|\n",
      "|         Haipad|             Android|            2|\n",
      "|             LG|        Opera Mobile|          825|\n",
      "|           Asus|        Opera Mobile|           37|\n",
      "|         Huawei|Chrome Mobile Web...|        38301|\n",
      "|         Spider|            Qwantify|          110|\n",
      "|          ionik|              Google|            2|\n",
      "|           Sony|        Opera Mobile|          634|\n",
      "|Generic_Android|         MiuiBrowser|          100|\n",
      "|         XiaoMi|              Google|           51|\n",
      "|        Samsung|           Instagram|         1319|\n",
      "+---------------+--------------------+-------------+\n",
      "only showing top 20 rows\n",
      "\n"
     ]
    },
    {
     "name": "stderr",
     "output_type": "stream",
     "text": [
      "                                                                                \r"
     ]
    }
   ],
   "source": [
    "df_Devices_Browsers = df_Base.groupby('Device','Browser')\\\n",
    "                             .agg(F.count('Browser').alias('Count_Browser'))\n",
    "df_Devices_Browsers.show()"
   ]
  },
  {
   "cell_type": "code",
   "execution_count": 30,
   "id": "618ee680",
   "metadata": {},
   "outputs": [
    {
     "name": "stderr",
     "output_type": "stream",
     "text": [
      "[Stage 81:===========================================>          (162 + 2) / 200]\r"
     ]
    },
    {
     "name": "stdout",
     "output_type": "stream",
     "text": [
      "+-------+--------------------+-------------+----------+\n",
      "| Device|             Browser|Count_Browser|row_number|\n",
      "+-------+--------------------+-------------+----------+\n",
      "|   Acer|              Chrome|          223|         1|\n",
      "|   Acer|             Android|           33|         2|\n",
      "|   Acer|Chrome Mobile Web...|            3|         3|\n",
      "|   Acer|              Google|            1|         4|\n",
      "|Alcatel|             Android|          568|         1|\n",
      "|Alcatel|       Chrome Mobile|          279|         2|\n",
      "|Alcatel|              Chrome|          126|         3|\n",
      "|Alcatel|              Google|            2|         4|\n",
      "| Amazon|         Amazon Silk|            4|         1|\n",
      "|  Aoson|Chrome Mobile Web...|           24|         1|\n",
      "|  Aoson|             Android|            3|         2|\n",
      "|  Apple|       Mobile Safari|       441774|         1|\n",
      "|  Apple|   Chrome Mobile iOS|        73520|         2|\n",
      "|  Apple|        MobileSafari|        69822|         3|\n",
      "|  Apple|              Google|        43072|         4|\n",
      "|  Apple|              Safari|        38556|         5|\n",
      "| Archos|             Android|           66|         1|\n",
      "|   Asus|       Chrome Mobile|        20703|         1|\n",
      "|   Asus|              Chrome|         3319|         2|\n",
      "|   Asus|Chrome Mobile Web...|         3134|         3|\n",
      "+-------+--------------------+-------------+----------+\n",
      "only showing top 20 rows\n",
      "\n"
     ]
    },
    {
     "name": "stderr",
     "output_type": "stream",
     "text": [
      "                                                                                \r"
     ]
    }
   ],
   "source": [
    "window = Window.partitionBy(df_Devices_Browsers['Device'])\\\n",
    "               .orderBy(df_Devices_Browsers['Count_Browser'].desc())\n",
    "df_Browsers = df_Devices_Browsers.select('*', F.row_number().over(window).alias('row_number')).where(F.col('row_number') <= 5)\\\n",
    "             .select('Device', 'Browser', 'Count_Browser', 'row_number')\\\n",
    "             .orderBy(df_Devices_Browsers['Device'],df_Devices_Browsers['Count_Browser'].desc())\n",
    "df_Browsers.show()"
   ]
  },
  {
   "cell_type": "markdown",
   "id": "b8cf255d",
   "metadata": {},
   "source": [
    "# Сохранение результирующего дата фрейма \"Браузеры\" в файл"
   ]
  },
  {
   "cell_type": "code",
   "execution_count": 31,
   "id": "e5d282ec",
   "metadata": {},
   "outputs": [
    {
     "name": "stderr",
     "output_type": "stream",
     "text": [
      "                                                                                \r"
     ]
    }
   ],
   "source": [
    "df_Browsers.toPandas().to_csv('Browsers.txt',mode='w+',header=True,index=False)"
   ]
  },
  {
   "cell_type": "markdown",
   "id": "8aaabab6",
   "metadata": {},
   "source": [
    "# Формирование таблицы 4 \"Ответы сервера\""
   ]
  },
  {
   "cell_type": "code",
   "execution_count": 32,
   "id": "ba41e382",
   "metadata": {},
   "outputs": [
    {
     "name": "stdout",
     "output_type": "stream",
     "text": [
      "+-------------+--------------------+--------------------+------+-----+--------------------+-------------+------+\n",
      "|           IP|         Date_access|              Action|Status| Size|          User_agent|      Browser|Device|\n",
      "+-------------+--------------------+--------------------+------+-----+--------------------+-------------+------+\n",
      "|207.46.13.136|[22/Jan/2019:03:5...|GET /product/1492...|   404|33617|Mozilla/5.0 (comp...|      bingbot|Spider|\n",
      "|66.249.66.194|[22/Jan/2019:03:5...|GET /product/8190...|   404|32278|Mozilla/5.0 (comp...|    Googlebot|Spider|\n",
      "|  5.211.97.39|[22/Jan/2019:03:5...|HEAD /amp_preconn...|   404|    0|Mozilla/5.0 (iPho...|Mobile Safari| Apple|\n",
      "| 54.36.148.87|[22/Jan/2019:03:5...|GET /filter/p65%2...|   302|    0|Mozilla/5.0 (comp...|    AhrefsBot|Spider|\n",
      "|207.46.13.104|[22/Jan/2019:03:5...|GET /browse/flute...|   404|33605|Mozilla/5.0 (comp...|      bingbot|Spider|\n",
      "| 5.160.157.20|[22/Jan/2019:03:5...|GET /browse/blu-r...|   301|  178|Mozilla/5.0 (Wind...|      Firefox| other|\n",
      "| 5.160.157.20|[22/Jan/2019:03:5...|GET /filter?f=p12...|   301|  178|Mozilla/5.0 (Wind...|      Firefox| other|\n",
      "|  5.211.97.39|[22/Jan/2019:03:5...|HEAD /amp_preconn...|   404|    0|Mozilla/5.0 (iPho...|Mobile Safari| Apple|\n",
      "|54.36.148.161|[22/Jan/2019:03:5...|GET /filter/p28%2...|   302|    0|Mozilla/5.0 (comp...|    AhrefsBot|Spider|\n",
      "|66.249.66.194|[22/Jan/2019:03:5...|GET /product/2082...|   302|    0|Mozilla/5.0 (Linu...|    Googlebot|Spider|\n",
      "| 17.58.102.43|[22/Jan/2019:03:5...|GET /filter?f=b21...|   302|    0|Mozilla/5.0 (Maci...|     Applebot| Apple|\n",
      "|  5.211.97.39|[22/Jan/2019:03:5...|HEAD /amp_preconn...|   404|    0|Mozilla/5.0 (iPho...|Mobile Safari| Apple|\n",
      "|  5.211.97.39|[22/Jan/2019:03:5...|HEAD /amp_preconn...|   404|    0|Mozilla/5.0 (iPho...|Mobile Safari| Apple|\n",
      "|66.249.66.194|[22/Jan/2019:03:5...|GET /filter/b2,p1...|   302|    0|Mozilla/5.0 (Linu...|    Googlebot|Spider|\n",
      "|66.249.66.194|[22/Jan/2019:03:5...|GET /product/2595...|   302|    0|Mozilla/5.0 (Linu...|    Googlebot|Spider|\n",
      "| 54.36.149.58|[22/Jan/2019:03:5...|GET /filter/p1028...|   302|    0|Mozilla/5.0 (comp...|    AhrefsBot|Spider|\n",
      "|  5.211.97.39|[22/Jan/2019:03:5...|HEAD /amp_preconn...|   404|    0|Mozilla/5.0 (iPho...|Mobile Safari| Apple|\n",
      "| 17.58.102.43|[22/Jan/2019:03:5...|GET /filter?f=b57...|   302|    0|Mozilla/5.0 (Maci...|     Applebot| Apple|\n",
      "|66.249.66.194|[22/Jan/2019:03:5...|GET /product/2582...|   302|    0|Mozilla/5.0 (Linu...|    Googlebot|Spider|\n",
      "|66.249.66.194|[22/Jan/2019:03:5...|GET /m/product/25...|   404|33613|Mozilla/5.0 (Linu...|    Googlebot|Spider|\n",
      "+-------------+--------------------+--------------------+------+-----+--------------------+-------------+------+\n",
      "only showing top 20 rows\n",
      "\n"
     ]
    }
   ],
   "source": [
    "df_Status_200 = df_Base.filter(df_Base.Status != \"200\")\n",
    "df_Status_200.show()"
   ]
  },
  {
   "cell_type": "code",
   "execution_count": 41,
   "id": "831fc6e0",
   "metadata": {},
   "outputs": [
    {
     "name": "stderr",
     "output_type": "stream",
     "text": [
      "                                                                                \r"
     ]
    },
    {
     "name": "stdout",
     "output_type": "stream",
     "text": [
      "+--------------------+----------------+\n",
      "|              Device|Count_Status_all|\n",
      "+--------------------+----------------+\n",
      "|             Infinix|               7|\n",
      "|               Nokia|            1262|\n",
      "|              Spider|          393645|\n",
      "|                 RCA|               1|\n",
      "|                Sony|            3018|\n",
      "|               Cubot|               3|\n",
      "|             Alcatel|             114|\n",
      "|            Motorola|              67|\n",
      "|              XiaoMi|            1506|\n",
      "|              Huawei|           18805|\n",
      "|            Trekstor|               1|\n",
      "|                  HP|              16|\n",
      "|        SonyEricsson|             928|\n",
      "|             Hyundai|               1|\n",
      "|Generic_Android_T...|            1839|\n",
      "|           Prestigio|              54|\n",
      "|          BlackBerry|              68|\n",
      "|               other|          179173|\n",
      "|                Acer|               8|\n",
      "|                Asus|            1039|\n",
      "+--------------------+----------------+\n",
      "only showing top 20 rows\n",
      "\n"
     ]
    }
   ],
   "source": [
    "df_Status = df_Status_200.groupby('Device')\\\n",
    "             .agg(F.count('Status').alias('Count_Status_all'))\\\n",
    "             .withColumn('Count_Status_all',F.col('Count_Status_all'))        \n",
    "df_Status.show()"
   ]
  },
  {
   "cell_type": "code",
   "execution_count": 36,
   "id": "eb63fe12",
   "metadata": {},
   "outputs": [
    {
     "name": "stderr",
     "output_type": "stream",
     "text": [
      "[Stage 109:==========================================>          (162 + 2) / 200]\r"
     ]
    },
    {
     "name": "stdout",
     "output_type": "stream",
     "text": [
      "+------+------+------------+\n",
      "|Device|Status|Count_Status|\n",
      "+------+------+------------+\n",
      "|  vivo|   302|           4|\n",
      "| other|   302|       80452|\n",
      "| other|   304|       32065|\n",
      "| other|   499|       25256|\n",
      "| other|   301|       20081|\n",
      "| other|   500|       14090|\n",
      "| other|   404|        5595|\n",
      "| other|   400|         556|\n",
      "| other|   502|         359|\n",
      "| other|   401|         307|\n",
      "| other|   403|         285|\n",
      "| other|   408|          59|\n",
      "| other|   504|          42|\n",
      "| other|   414|          17|\n",
      "| other|   405|           6|\n",
      "| other|   206|           3|\n",
      "|   ZTE|   302|          18|\n",
      "|   ZTE|   499|           4|\n",
      "|   ZTE|   301|           2|\n",
      "|   ZTE|   404|           1|\n",
      "+------+------+------------+\n",
      "only showing top 20 rows\n",
      "\n"
     ]
    },
    {
     "name": "stderr",
     "output_type": "stream",
     "text": [
      "                                                                                \r"
     ]
    }
   ],
   "source": [
    "df_Status_Answers = df_Status_200.groupby('Device','Status')\\\n",
    "             .agg(F.count('Status').alias('Count_Status'))\\\n",
    "             .withColumn('Count_Status',F.col('Count_Status'))\\\n",
    "             .orderBy('Device', 'Count_Status', ascending = False)\\\n",
    "             .select('Device', 'Status', 'Count_Status')\n",
    "df_Status_Answers.show()"
   ]
  },
  {
   "cell_type": "code",
   "execution_count": 44,
   "id": "17c5548d",
   "metadata": {},
   "outputs": [
    {
     "name": "stderr",
     "output_type": "stream",
     "text": [
      "[Stage 152:=================================================>   (186 + 2) / 200]\r"
     ]
    },
    {
     "name": "stdout",
     "output_type": "stream",
     "text": [
      "+-------+----------------+------+------------+\n",
      "| Device|Count_Status_all|Status|Count_Status|\n",
      "+-------+----------------+------+------------+\n",
      "|   Acer|               8|   404|           1|\n",
      "|   Acer|               8|   302|           7|\n",
      "|Alcatel|             114|   500|           3|\n",
      "|Alcatel|             114|   304|           3|\n",
      "|Alcatel|             114|   403|           5|\n",
      "|Alcatel|             114|   499|           8|\n",
      "|Alcatel|             114|   302|          33|\n",
      "|Alcatel|             114|   404|          62|\n",
      "| Amazon|               1|   301|           1|\n",
      "|  Apple|           99340|   400|           1|\n",
      "|  Apple|           99340|   408|           8|\n",
      "|  Apple|           99340|   401|          16|\n",
      "|  Apple|           99340|   502|          34|\n",
      "|  Apple|           99340|   500|          92|\n",
      "|  Apple|           99340|   403|         355|\n",
      "|  Apple|           99340|   304|        2366|\n",
      "|  Apple|           99340|   301|        2893|\n",
      "|  Apple|           99340|   499|        3850|\n",
      "|  Apple|           99340|   302|       20520|\n",
      "|  Apple|           99340|   404|       69205|\n",
      "+-------+----------------+------+------------+\n",
      "only showing top 20 rows\n",
      "\n"
     ]
    },
    {
     "name": "stderr",
     "output_type": "stream",
     "text": [
      "                                                                                \r"
     ]
    }
   ],
   "source": [
    "df_Server_Answers = df_Status.join(df_Status_Answers, [\"Device\"], \"left\")\\\n",
    "                    .orderBy('Device', 'Count_Status', ascending = True)\n",
    "df_Server_Answers.show()"
   ]
  },
  {
   "cell_type": "markdown",
   "id": "f43d4ee4",
   "metadata": {},
   "source": [
    "# Сохранение результирующего дата фрейма \"Ответы сервера\" в файл"
   ]
  },
  {
   "cell_type": "code",
   "execution_count": 45,
   "id": "219f1807",
   "metadata": {},
   "outputs": [
    {
     "name": "stderr",
     "output_type": "stream",
     "text": [
      "                                                                                \r"
     ]
    }
   ],
   "source": [
    "df_Server_Answers.toPandas().to_csv('Server_Answers.txt',mode='w+',header=True,index=False)"
   ]
  },
  {
   "cell_type": "code",
   "execution_count": null,
   "id": "11e6f435",
   "metadata": {},
   "outputs": [],
   "source": []
  }
 ],
 "metadata": {
  "kernelspec": {
   "display_name": "Python 3 (ipykernel)",
   "language": "python",
   "name": "python3"
  },
  "language_info": {
   "codemirror_mode": {
    "name": "ipython",
    "version": 3
   },
   "file_extension": ".py",
   "mimetype": "text/x-python",
   "name": "python",
   "nbconvert_exporter": "python",
   "pygments_lexer": "ipython3",
   "version": "3.9.2"
  }
 },
 "nbformat": 4,
 "nbformat_minor": 5
}
