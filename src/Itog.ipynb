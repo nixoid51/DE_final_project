{
 "cells": [
  {
   "cell_type": "code",
   "execution_count": 170,
   "id": "1689b769",
   "metadata": {},
   "outputs": [],
   "source": [
    "from pyspark.sql import SparkSession\n",
    "import pyspark.sql.types as T\n",
    "import pyspark.sql.functions as F\n",
    "from datetime import date\n",
    "from pyspark.sql import Window, Row\n",
    "from user_agents import parse"
   ]
  },
  {
   "cell_type": "markdown",
   "id": "63bfe554",
   "metadata": {},
   "source": [
    "# Создание SparkSession"
   ]
  },
  {
   "cell_type": "code",
   "execution_count": 171,
   "id": "db14ac20",
   "metadata": {},
   "outputs": [],
   "source": [
    "spark = SparkSession.\\\n",
    "        builder.\\\n",
    "        appName(\"pyspark-notebook\").\\\n",
    "        master(\"spark://spark-master:7077\").\\\n",
    "        config(\"spark.executor.memory\", \"512m\").\\\n",
    "        getOrCreate()"
   ]
  },
  {
   "cell_type": "markdown",
   "id": "33d0eac8",
   "metadata": {},
   "source": [
    "Создание дата фрейма лог файла"
   ]
  },
  {
   "cell_type": "code",
   "execution_count": 172,
   "id": "88ecafa9",
   "metadata": {},
   "outputs": [],
   "source": [
    "schema = T.StructType(fields=[\n",
    "    T.StructField(\"IP\", T.StringType(), True),\n",
    "    T.StructField(\"sign_1\", T.StringType(), True),\n",
    "    T.StructField(\"sign_2\", T.StringType(), True),\n",
    "    T.StructField(\"Date_access\", T.StringType(), True),\n",
    "    T.StructField(\"Date_access_\", T.StringType(), True),\n",
    "    T.StructField(\"Action\", T.StringType (), True),\n",
    "    T.StructField(\"Status\", T.IntegerType (), True),\n",
    "    T.StructField(\"Size\", T.IntegerType (), True),\n",
    "    T.StructField(\"sign_3\", T.StringType (), True),\n",
    "    T.StructField(\"User_agent\", T.StringType (), True),\n",
    "    T.StructField(\"sign_4\", T.StringType (), True)\n",
    "])"
   ]
  },
  {
   "cell_type": "code",
   "execution_count": 173,
   "id": "7f221de6",
   "metadata": {},
   "outputs": [
    {
     "name": "stdout",
     "output_type": "stream",
     "text": [
      "+-------------+------+------+--------------------+------------+--------------------+------+-----+--------------------+--------------------+------+\n",
      "|           IP|sign_1|sign_2|         Date_access|Date_access_|              Action|Status| Size|              sign_3|          User_agent|sign_4|\n",
      "+-------------+------+------+--------------------+------------+--------------------+------+-----+--------------------+--------------------+------+\n",
      "| 54.36.149.41|     -|     -|[22/Jan/2019:03:5...|      +0330]|GET /filter/27|13...|   200|30577|                   -|Mozilla/5.0 (comp...|     -|\n",
      "|  31.56.96.51|     -|     -|[22/Jan/2019:03:5...|      +0330]|GET /image/60844/...|   200| 5667|https://www.zanbi...|Mozilla/5.0 (Linu...|     -|\n",
      "|  31.56.96.51|     -|     -|[22/Jan/2019:03:5...|      +0330]|GET /image/61474/...|   200| 5379|https://www.zanbi...|Mozilla/5.0 (Linu...|     -|\n",
      "|40.77.167.129|     -|     -|[22/Jan/2019:03:5...|      +0330]|GET /image/14925/...|   200| 1696|                   -|Mozilla/5.0 (comp...|     -|\n",
      "|  91.99.72.15|     -|     -|[22/Jan/2019:03:5...|      +0330]|GET /product/3189...|   200|41483|                   -|Mozilla/5.0 (Wind...|     -|\n",
      "|40.77.167.129|     -|     -|[22/Jan/2019:03:5...|      +0330]|GET /image/23488/...|   200| 2654|                   -|Mozilla/5.0 (comp...|     -|\n",
      "|40.77.167.129|     -|     -|[22/Jan/2019:03:5...|      +0330]|GET /image/45437/...|   200| 3688|                   -|Mozilla/5.0 (comp...|     -|\n",
      "|40.77.167.129|     -|     -|[22/Jan/2019:03:5...|      +0330]|GET /image/576/ar...|   200|14776|                   -|Mozilla/5.0 (comp...|     -|\n",
      "|66.249.66.194|     -|     -|[22/Jan/2019:03:5...|      +0330]|GET /filter/b41,b...|   200|34277|                   -|Mozilla/5.0 (comp...|     -|\n",
      "|40.77.167.129|     -|     -|[22/Jan/2019:03:5...|      +0330]|GET /image/57710/...|   200| 1695|                   -|Mozilla/5.0 (comp...|     -|\n",
      "+-------------+------+------+--------------------+------------+--------------------+------+-----+--------------------+--------------------+------+\n",
      "only showing top 10 rows\n",
      "\n"
     ]
    }
   ],
   "source": [
    "path = \"data/access.log\"\n",
    "df1 = spark.read.csv(path, schema=schema, sep=\" \")\n",
    "df1.show(10)"
   ]
  },
  {
   "cell_type": "markdown",
   "id": "a0bf142c",
   "metadata": {},
   "source": [
    "Создание дата фрема файла csv"
   ]
  },
  {
   "cell_type": "code",
   "execution_count": 174,
   "id": "372b7bdf",
   "metadata": {},
   "outputs": [],
   "source": [
    "schema_cl = T.StructType(fields=[\n",
    "    T.StructField(\"client\", T.StringType(), True),\n",
    "    T.StructField(\"hostname\", T.StringType(), True),\n",
    "    T.StructField(\"alias_list\", T.StringType(), True),\n",
    "    T.StructField(\"address_list\", T.StringType(), True)\n",
    "])"
   ]
  },
  {
   "cell_type": "code",
   "execution_count": 175,
   "id": "0e9dab46",
   "metadata": {},
   "outputs": [
    {
     "name": "stdout",
     "output_type": "stream",
     "text": [
      "+-------------+--------------------+--------------------+-----------------+\n",
      "|       client|            hostname|          alias_list|     address_list|\n",
      "+-------------+--------------------+--------------------+-----------------+\n",
      "| 5.123.144.95|        5.123.144.95|[Errno 1] Unknown...|             null|\n",
      "| 5.122.76.187|        5.122.76.187|[Errno 1] Unknown...|             null|\n",
      "| 5.215.249.99|        5.215.249.99|[Errno 1] Unknown...|             null|\n",
      "|31.56.102.211|31-56-102-211.sha...|['211.102.56.31.i...|['31.56.102.211']|\n",
      "|5.123.166.223|       5.123.166.223|[Errno 1] Unknown...|             null|\n",
      "|  5.160.26.98|         5.160.26.98|[Errno 1] Unknown...|             null|\n",
      "|5.127.147.132|       5.127.147.132|[Errno 1] Unknown...|             null|\n",
      "|158.58.30.218|       158.58.30.218|[Errno 1] Unknown...|             null|\n",
      "| 86.55.230.86|        86.55.230.86|[Errno 1] Unknown...|             null|\n",
      "| 89.35.65.186|        89.35.65.186|[Errno 1] Unknown...|             null|\n",
      "+-------------+--------------------+--------------------+-----------------+\n",
      "only showing top 10 rows\n",
      "\n"
     ]
    }
   ],
   "source": [
    "path = \"data/client_.txt\"\n",
    "df2 = spark.read.csv(path, schema=schema_cl, sep=\",\")\n",
    "df2.show(10)"
   ]
  },
  {
   "cell_type": "markdown",
   "id": "ca446fdd",
   "metadata": {},
   "source": [
    "# Проверка содержимого столбцов"
   ]
  },
  {
   "cell_type": "code",
   "execution_count": 176,
   "id": "7b21be8a",
   "metadata": {},
   "outputs": [
    {
     "data": {
      "text/plain": [
       "100"
      ]
     },
     "execution_count": 176,
     "metadata": {},
     "output_type": "execute_result"
    }
   ],
   "source": [
    "df1.count()"
   ]
  },
  {
   "cell_type": "code",
   "execution_count": 177,
   "id": "49a3e94a",
   "metadata": {},
   "outputs": [
    {
     "name": "stdout",
     "output_type": "stream",
     "text": [
      "+--------------+-----+\n",
      "|            IP|activ|\n",
      "+--------------+-----+\n",
      "|   5.211.97.39|    1|\n",
      "|  17.58.102.43|    1|\n",
      "| 34.247.132.53|    1|\n",
      "|89.199.193.251|    1|\n",
      "|  54.36.149.70|    1|\n",
      "|  54.36.149.41|    1|\n",
      "|  54.36.148.87|    1|\n",
      "|  5.112.52.254|    2|\n",
      "|  2.179.141.98|    2|\n",
      "| 207.46.13.136|    3|\n",
      "| 173.249.54.67|    4|\n",
      "|   91.99.72.15|    6|\n",
      "|  66.249.66.91|    6|\n",
      "| 178.253.33.51|    6|\n",
      "| 207.46.13.115|    7|\n",
      "|   31.56.96.51|    7|\n",
      "| 66.111.54.249|    7|\n",
      "| 66.249.66.194|    9|\n",
      "| 40.77.167.129|   10|\n",
      "|   5.78.198.52|   10|\n",
      "+--------------+-----+\n",
      "only showing top 20 rows\n",
      "\n"
     ]
    },
    {
     "name": "stderr",
     "output_type": "stream",
     "text": [
      "                                                                                \r"
     ]
    }
   ],
   "source": [
    "df1.groupby(\"IP\")\\\n",
    "   .agg(F.count(\"*\").alias(\"activ\"))\\\n",
    "   .orderBy(\"activ\", ascending = True)\\\n",
    "   .show()"
   ]
  },
  {
   "cell_type": "code",
   "execution_count": 178,
   "id": "3dfb3ffc",
   "metadata": {},
   "outputs": [
    {
     "name": "stderr",
     "output_type": "stream",
     "text": [
      "[Stage 1787:==========================================>         (162 + 2) / 200]\r"
     ]
    },
    {
     "name": "stdout",
     "output_type": "stream",
     "text": [
      "+----------+\n",
      "|sum(activ)|\n",
      "+----------+\n",
      "|       100|\n",
      "+----------+\n",
      "\n"
     ]
    },
    {
     "name": "stderr",
     "output_type": "stream",
     "text": [
      "                                                                                \r"
     ]
    }
   ],
   "source": [
    " df1.groupby(\"IP\")\\\n",
    "    .agg(F.count(\"*\").alias(\"activ\"))\\\n",
    "    .orderBy(\"activ\", ascending = False)\\\n",
    "    .agg(F.sum(\"activ\"))\\\n",
    "    .show()"
   ]
  },
  {
   "cell_type": "code",
   "execution_count": 179,
   "id": "fc450b68",
   "metadata": {},
   "outputs": [
    {
     "name": "stderr",
     "output_type": "stream",
     "text": [
      "[Stage 1790:=================================>                  (128 + 2) / 200]\r"
     ]
    },
    {
     "name": "stdout",
     "output_type": "stream",
     "text": [
      "+------+-----+\n",
      "|sign_1|activ|\n",
      "+------+-----+\n",
      "|     -|  100|\n",
      "+------+-----+\n",
      "\n"
     ]
    },
    {
     "name": "stderr",
     "output_type": "stream",
     "text": [
      "                                                                                \r"
     ]
    }
   ],
   "source": [
    "df1.groupby(\"sign_1\")\\\n",
    "   .agg(F.count(\"*\").alias(\"activ\"))\\\n",
    "   .orderBy(\"activ\", ascending = False)\\\n",
    "   .show()"
   ]
  },
  {
   "cell_type": "code",
   "execution_count": 180,
   "id": "af73be9f",
   "metadata": {},
   "outputs": [
    {
     "name": "stdout",
     "output_type": "stream",
     "text": [
      "+------+-----+\n",
      "|sign_2|activ|\n",
      "+------+-----+\n",
      "|     -|  100|\n",
      "+------+-----+\n",
      "\n"
     ]
    }
   ],
   "source": [
    "df1.groupby(\"sign_2\")\\\n",
    "   .agg(F.count(\"*\").alias(\"activ\"))\\\n",
    "   .orderBy(\"activ\", ascending = False)\\\n",
    "   .show()"
   ]
  },
  {
   "cell_type": "code",
   "execution_count": 181,
   "id": "0d967b13",
   "metadata": {},
   "outputs": [
    {
     "name": "stdout",
     "output_type": "stream",
     "text": [
      "+--------------------+-----+\n",
      "|              sign_3|activ|\n",
      "+--------------------+-----+\n",
      "|                   -|   53|\n",
      "|https://www.zanbi...|   14|\n",
      "|https://www.zanbi...|    9|\n",
      "|https://www.zanbi...|    7|\n",
      "|https://www.zanbi...|    6|\n",
      "|https://www.zanbi...|    5|\n",
      "|https://www.zanbi...|    2|\n",
      "|https://www.zanbi...|    1|\n",
      "|https://www.zanbi...|    1|\n",
      "|https://www.zanbi...|    1|\n",
      "|https://www-zanbi...|    1|\n",
      "+--------------------+-----+\n",
      "\n"
     ]
    }
   ],
   "source": [
    "df1.groupby(\"sign_3\")\\\n",
    "   .agg(F.count(\"*\").alias(\"activ\"))\\\n",
    "   .orderBy(\"activ\", ascending = False)\\\n",
    "   .show()"
   ]
  },
  {
   "cell_type": "code",
   "execution_count": 182,
   "id": "aeb35d18",
   "metadata": {},
   "outputs": [
    {
     "name": "stderr",
     "output_type": "stream",
     "text": [
      "[Stage 1796:==============================================>     (180 + 2) / 200]\r"
     ]
    },
    {
     "name": "stdout",
     "output_type": "stream",
     "text": [
      "+----------+\n",
      "|sum(activ)|\n",
      "+----------+\n",
      "|       100|\n",
      "+----------+\n",
      "\n"
     ]
    },
    {
     "name": "stderr",
     "output_type": "stream",
     "text": [
      "                                                                                \r"
     ]
    }
   ],
   "source": [
    "df1.groupby(\"sign_3\")\\\n",
    "    .agg(F.count(\"*\").alias(\"activ\"))\\\n",
    "    .orderBy(\"activ\", ascending = False)\\\n",
    "    .agg(F.sum(\"activ\"))\\\n",
    "    .show()"
   ]
  },
  {
   "cell_type": "code",
   "execution_count": 183,
   "id": "00b1a8e6",
   "metadata": {},
   "outputs": [
    {
     "name": "stderr",
     "output_type": "stream",
     "text": [
      "[Stage 1799:=========================>                           (97 + 2) / 200]\r"
     ]
    },
    {
     "name": "stdout",
     "output_type": "stream",
     "text": [
      "+------+-----+\n",
      "|sign_4|activ|\n",
      "+------+-----+\n",
      "|     -|  100|\n",
      "+------+-----+\n",
      "\n"
     ]
    },
    {
     "name": "stderr",
     "output_type": "stream",
     "text": [
      "                                                                                \r"
     ]
    }
   ],
   "source": [
    "df1.groupby(\"sign_4\")\\\n",
    "   .agg(F.count(\"*\").alias(\"activ\"))\\\n",
    "   .orderBy(\"activ\", ascending = False)\\\n",
    "   .show()"
   ]
  },
  {
   "cell_type": "code",
   "execution_count": 184,
   "id": "dd378c2f",
   "metadata": {},
   "outputs": [
    {
     "name": "stderr",
     "output_type": "stream",
     "text": [
      "[Stage 1801:===================================================>(197 + 2) / 200]\r"
     ]
    },
    {
     "name": "stdout",
     "output_type": "stream",
     "text": [
      "+------------+-----+\n",
      "|Date_access_|activ|\n",
      "+------------+-----+\n",
      "|      +0330]|  100|\n",
      "+------------+-----+\n",
      "\n"
     ]
    },
    {
     "name": "stderr",
     "output_type": "stream",
     "text": [
      "                                                                                \r"
     ]
    }
   ],
   "source": [
    "df1.groupby(\"Date_access_\")\\\n",
    "   .agg(F.count(\"*\").alias(\"activ\"))\\\n",
    "   .orderBy(\"activ\", ascending = False)\\\n",
    "   .show()"
   ]
  },
  {
   "cell_type": "markdown",
   "id": "bf90fff8",
   "metadata": {},
   "source": [
    "Убираем неинформативные столбцы"
   ]
  },
  {
   "cell_type": "code",
   "execution_count": 140,
   "id": "757734a9",
   "metadata": {},
   "outputs": [
    {
     "name": "stdout",
     "output_type": "stream",
     "text": [
      "+-------------+--------------------+--------------------+------+-----+--------------------+\n",
      "|           IP|         Date_access|              Action|Status| Size|          User_agent|\n",
      "+-------------+--------------------+--------------------+------+-----+--------------------+\n",
      "| 54.36.149.41|[22/Jan/2019:03:5...|GET /filter/27|13...|   200|30577|Mozilla/5.0 (comp...|\n",
      "|  31.56.96.51|[22/Jan/2019:03:5...|GET /image/60844/...|   200| 5667|Mozilla/5.0 (Linu...|\n",
      "|  31.56.96.51|[22/Jan/2019:03:5...|GET /image/61474/...|   200| 5379|Mozilla/5.0 (Linu...|\n",
      "|40.77.167.129|[22/Jan/2019:03:5...|GET /image/14925/...|   200| 1696|Mozilla/5.0 (comp...|\n",
      "|  91.99.72.15|[22/Jan/2019:03:5...|GET /product/3189...|   200|41483|Mozilla/5.0 (Wind...|\n",
      "|40.77.167.129|[22/Jan/2019:03:5...|GET /image/23488/...|   200| 2654|Mozilla/5.0 (comp...|\n",
      "|40.77.167.129|[22/Jan/2019:03:5...|GET /image/45437/...|   200| 3688|Mozilla/5.0 (comp...|\n",
      "|40.77.167.129|[22/Jan/2019:03:5...|GET /image/576/ar...|   200|14776|Mozilla/5.0 (comp...|\n",
      "|66.249.66.194|[22/Jan/2019:03:5...|GET /filter/b41,b...|   200|34277|Mozilla/5.0 (comp...|\n",
      "|40.77.167.129|[22/Jan/2019:03:5...|GET /image/57710/...|   200| 1695|Mozilla/5.0 (comp...|\n",
      "|207.46.13.136|[22/Jan/2019:03:5...|GET /product/1021...|   200|39677|Mozilla/5.0 (comp...|\n",
      "|40.77.167.129|[22/Jan/2019:03:5...|GET /image/578/ar...|   200| 9831|Mozilla/5.0 (comp...|\n",
      "|178.253.33.51|[22/Jan/2019:03:5...|GET /m/product/32...|   200|20406|Mozilla/5.0 (Linu...|\n",
      "|40.77.167.129|[22/Jan/2019:03:5...|GET /image/6229/p...|   200| 1796|Mozilla/5.0 (comp...|\n",
      "|  91.99.72.15|[22/Jan/2019:03:5...|GET /product/1007...|   200|41725|Mozilla/5.0 (X11;...|\n",
      "|40.77.167.129|[22/Jan/2019:03:5...|GET /image/6229/p...|   200| 2739|Mozilla/5.0 (comp...|\n",
      "|207.46.13.136|[22/Jan/2019:03:5...|GET /product/1492...|   404|33617|Mozilla/5.0 (comp...|\n",
      "|40.77.167.129|[22/Jan/2019:03:5...|GET /image/6248/p...|   200| 2788|Mozilla/5.0 (comp...|\n",
      "|40.77.167.129|[22/Jan/2019:03:5...|GET /image/64815/...|   200| 3481|Mozilla/5.0 (comp...|\n",
      "|66.249.66.194|[22/Jan/2019:03:5...|GET /m/filter/b2,...|   200|19451|Mozilla/5.0 (Linu...|\n",
      "+-------------+--------------------+--------------------+------+-----+--------------------+\n",
      "only showing top 20 rows\n",
      "\n"
     ]
    }
   ],
   "source": [
    "df1_2 = df1.drop(\"sign_1\", \"sign_2\", \"Date_access_\", \"sign_3\", \"sign_4\")\n",
    "df1_2.show()"
   ]
  },
  {
   "cell_type": "markdown",
   "id": "1a33674d",
   "metadata": {},
   "source": [
    "Анализ User_agent для выделения данных по устройству и по браузеру"
   ]
  },
  {
   "cell_type": "code",
   "execution_count": 187,
   "id": "0e982c2f",
   "metadata": {},
   "outputs": [
    {
     "data": {
      "text/plain": [
       "[[],\n",
       " [],\n",
       " ['AhrefsBot', 'Spider'],\n",
       " ['Chrome Mobile', 'Huawei'],\n",
       " ['Chrome Mobile', 'Huawei'],\n",
       " ['bingbot', 'Spider'],\n",
       " ['Firefox', None],\n",
       " ['bingbot', 'Spider'],\n",
       " ['bingbot', 'Spider'],\n",
       " ['bingbot', 'Spider'],\n",
       " ['Googlebot', 'Spider'],\n",
       " ['bingbot', 'Spider'],\n",
       " ['bingbot', 'Spider'],\n",
       " ['bingbot', 'Spider'],\n",
       " ['Chrome Mobile', 'HTC'],\n",
       " ['bingbot', 'Spider'],\n",
       " ['Chrome', None],\n",
       " ['bingbot', 'Spider'],\n",
       " ['bingbot', 'Spider'],\n",
       " ['bingbot', 'Spider'],\n",
       " ['bingbot', 'Spider'],\n",
       " ['Googlebot', 'Spider'],\n",
       " ['Chrome', None],\n",
       " ['Chrome Mobile', 'HTC'],\n",
       " ['Googlebot', 'Spider'],\n",
       " ['Chrome Mobile', 'Huawei'],\n",
       " ['Chrome Mobile', 'Huawei'],\n",
       " ['Chrome Mobile', 'HTC'],\n",
       " ['Samsung Internet', 'Samsung'],\n",
       " ['Chrome Mobile', 'HTC'],\n",
       " ['bingbot', 'Spider'],\n",
       " ['Chrome', None],\n",
       " ['Samsung Internet', 'Samsung'],\n",
       " ['Googlebot', 'Spider'],\n",
       " ['Googlebot', 'Spider'],\n",
       " ['Chrome', None],\n",
       " ['AhrefsBot', 'Spider'],\n",
       " ['Firefox Mobile', 'Generic'],\n",
       " ['Firefox Mobile', 'Generic'],\n",
       " ['Firefox Mobile', 'Generic'],\n",
       " ['Chrome Mobile', 'HTC'],\n",
       " ['Googlebot', 'Spider'],\n",
       " ['Firefox Mobile', 'Generic'],\n",
       " ['Firefox Mobile', 'Generic'],\n",
       " ['Chrome Mobile', 'HTC'],\n",
       " ['Firefox Mobile', 'Generic'],\n",
       " ['Firefox Mobile', 'Generic'],\n",
       " ['Firefox Mobile', 'Generic'],\n",
       " ['Googlebot-Image', 'Spider'],\n",
       " ['Firefox Mobile', 'Generic'],\n",
       " ['Firefox Mobile', 'Generic'],\n",
       " ['Firefox Mobile', 'Generic'],\n",
       " ['Firefox Mobile', 'Generic'],\n",
       " ['Samsung Internet', 'Samsung'],\n",
       " ['Firefox Mobile', 'Generic'],\n",
       " ['Googlebot', 'Spider'],\n",
       " ['Googlebot-Image', 'Spider'],\n",
       " ['Samsung Internet', 'Samsung'],\n",
       " [\"Row(User_agent='torob\", 'Apple'],\n",
       " ['Chrome Mobile', 'Samsung'],\n",
       " ['Googlebot', 'Spider'],\n",
       " ['Samsung Internet', 'Samsung'],\n",
       " ['bingbot', 'Spider'],\n",
       " ['bingbot', 'Spider'],\n",
       " ['Samsung Internet', 'Samsung'],\n",
       " ['Chrome Mobile', 'Samsung'],\n",
       " ['Chrome Mobile', 'Samsung'],\n",
       " ['Chrome Mobile', 'Samsung'],\n",
       " ['Chrome Mobile', 'Samsung'],\n",
       " ['Android', 'Huawei'],\n",
       " ['Android', 'Samsung'],\n",
       " ['Chrome Mobile', 'Samsung'],\n",
       " ['Android', 'Samsung'],\n",
       " ['bingbot', 'Spider'],\n",
       " ['Chrome Mobile', 'Samsung'],\n",
       " ['Googlebot', 'Spider'],\n",
       " ['Android', 'Huawei'],\n",
       " ['bingbot', 'Spider'],\n",
       " ['bingbot', 'Spider'],\n",
       " ['Samsung Internet', 'Samsung'],\n",
       " ['Android', 'Huawei'],\n",
       " ['Googlebot', 'Spider'],\n",
       " ['bingbot', 'Spider'],\n",
       " ['Mobile Safari', 'Apple'],\n",
       " ['Googlebot', 'Spider'],\n",
       " ['Android', 'Huawei'],\n",
       " ['Chrome Mobile', 'Huawei'],\n",
       " ['Chrome Mobile', 'Huawei'],\n",
       " ['Chrome Mobile', 'Huawei'],\n",
       " ['bingbot', 'Spider'],\n",
       " ['Samsung Internet', 'Samsung'],\n",
       " ['Chrome', None],\n",
       " ['Chrome', None],\n",
       " ['Samsung Internet', 'Samsung'],\n",
       " ['Chrome', None],\n",
       " ['Samsung Internet', 'Samsung'],\n",
       " ['AhrefsBot', 'Spider'],\n",
       " ['Applebot', 'Apple'],\n",
       " ['Firefox', None],\n",
       " ['Googlebot', 'Spider'],\n",
       " ['Googlebot', 'Spider'],\n",
       " ['Firefox Mobile', 'Generic']]"
      ]
     },
     "execution_count": 187,
     "metadata": {},
     "output_type": "execute_result"
    }
   ],
   "source": [
    "#https://pypi.org/project/user-agents/\n",
    "n = 100\n",
    "ls = [[],[]]\n",
    "for i in range(n):\n",
    "    ua_string = str(df1_2.select([\"User_agent\"]).collect()[i])\n",
    "    user_agent = parse(ua_string)\n",
    "    ls.append([user_agent.browser.family, user_agent.device.brand])\n",
    "        \n",
    "ls"
   ]
  },
  {
   "cell_type": "code",
   "execution_count": 188,
   "id": "4c542bd9",
   "metadata": {},
   "outputs": [],
   "source": [
    "del ls[0]\n",
    "del ls[0]"
   ]
  },
  {
   "cell_type": "code",
   "execution_count": 189,
   "id": "f5156644",
   "metadata": {},
   "outputs": [
    {
     "data": {
      "text/plain": [
       "100"
      ]
     },
     "execution_count": 189,
     "metadata": {},
     "output_type": "execute_result"
    }
   ],
   "source": [
    "len(ls)"
   ]
  },
  {
   "cell_type": "code",
   "execution_count": 190,
   "id": "5510b2a9",
   "metadata": {},
   "outputs": [
    {
     "name": "stdout",
     "output_type": "stream",
     "text": [
      "+-------------+-----------+\n",
      "|      Browser|Name_Device|\n",
      "+-------------+-----------+\n",
      "|    AhrefsBot|     Spider|\n",
      "|Chrome Mobile|     Huawei|\n",
      "|Chrome Mobile|     Huawei|\n",
      "|      bingbot|     Spider|\n",
      "|      Firefox|       null|\n",
      "|      bingbot|     Spider|\n",
      "|      bingbot|     Spider|\n",
      "|      bingbot|     Spider|\n",
      "|    Googlebot|     Spider|\n",
      "|      bingbot|     Spider|\n",
      "|      bingbot|     Spider|\n",
      "|      bingbot|     Spider|\n",
      "|Chrome Mobile|        HTC|\n",
      "|      bingbot|     Spider|\n",
      "|       Chrome|       null|\n",
      "|      bingbot|     Spider|\n",
      "|      bingbot|     Spider|\n",
      "|      bingbot|     Spider|\n",
      "|      bingbot|     Spider|\n",
      "|    Googlebot|     Spider|\n",
      "+-------------+-----------+\n",
      "only showing top 20 rows\n",
      "\n"
     ]
    }
   ],
   "source": [
    "R = Row('Browser', 'Name_Device')\n",
    "\n",
    "df1_3 = spark.createDataFrame([R(x, y) for x, y in ls])\n",
    "df1_3.show() "
   ]
  },
  {
   "cell_type": "markdown",
   "id": "a9b1f874",
   "metadata": {},
   "source": [
    "Формирование базовой таблицы"
   ]
  },
  {
   "cell_type": "code",
   "execution_count": 199,
   "id": "9e272c76",
   "metadata": {},
   "outputs": [
    {
     "name": "stdout",
     "output_type": "stream",
     "text": [
      "+-------------+--------------------+--------------------+------+-----+--------------------+---------+-----------+\n",
      "|           IP|         Date_access|              Action|Status| Size|          User_agent|  Browser|Name_Device|\n",
      "+-------------+--------------------+--------------------+------+-----+--------------------+---------+-----------+\n",
      "| 54.36.149.41|[22/Jan/2019:03:5...|GET /filter/27|13...|   200|30577|Mozilla/5.0 (comp...|AhrefsBot|     Spider|\n",
      "|  31.56.96.51|[22/Jan/2019:03:5...|GET /image/60844/...|   200| 5667|Mozilla/5.0 (Linu...|AhrefsBot|     Spider|\n",
      "|  31.56.96.51|[22/Jan/2019:03:5...|GET /image/61474/...|   200| 5379|Mozilla/5.0 (Linu...|AhrefsBot|     Spider|\n",
      "|40.77.167.129|[22/Jan/2019:03:5...|GET /image/14925/...|   200| 1696|Mozilla/5.0 (comp...|AhrefsBot|     Spider|\n",
      "|  91.99.72.15|[22/Jan/2019:03:5...|GET /product/3189...|   200|41483|Mozilla/5.0 (Wind...|AhrefsBot|     Spider|\n",
      "|40.77.167.129|[22/Jan/2019:03:5...|GET /image/23488/...|   200| 2654|Mozilla/5.0 (comp...|AhrefsBot|     Spider|\n",
      "|40.77.167.129|[22/Jan/2019:03:5...|GET /image/45437/...|   200| 3688|Mozilla/5.0 (comp...|AhrefsBot|     Spider|\n",
      "|40.77.167.129|[22/Jan/2019:03:5...|GET /image/576/ar...|   200|14776|Mozilla/5.0 (comp...|AhrefsBot|     Spider|\n",
      "|66.249.66.194|[22/Jan/2019:03:5...|GET /filter/b41,b...|   200|34277|Mozilla/5.0 (comp...|AhrefsBot|     Spider|\n",
      "|40.77.167.129|[22/Jan/2019:03:5...|GET /image/57710/...|   200| 1695|Mozilla/5.0 (comp...|AhrefsBot|     Spider|\n",
      "|207.46.13.136|[22/Jan/2019:03:5...|GET /product/1021...|   200|39677|Mozilla/5.0 (comp...|AhrefsBot|     Spider|\n",
      "|40.77.167.129|[22/Jan/2019:03:5...|GET /image/578/ar...|   200| 9831|Mozilla/5.0 (comp...|AhrefsBot|     Spider|\n",
      "|178.253.33.51|[22/Jan/2019:03:5...|GET /m/product/32...|   200|20406|Mozilla/5.0 (Linu...|AhrefsBot|     Spider|\n",
      "|40.77.167.129|[22/Jan/2019:03:5...|GET /image/6229/p...|   200| 1796|Mozilla/5.0 (comp...|AhrefsBot|     Spider|\n",
      "|  91.99.72.15|[22/Jan/2019:03:5...|GET /product/1007...|   200|41725|Mozilla/5.0 (X11;...|AhrefsBot|     Spider|\n",
      "|40.77.167.129|[22/Jan/2019:03:5...|GET /image/6229/p...|   200| 2739|Mozilla/5.0 (comp...|AhrefsBot|     Spider|\n",
      "|207.46.13.136|[22/Jan/2019:03:5...|GET /product/1492...|   404|33617|Mozilla/5.0 (comp...|AhrefsBot|     Spider|\n",
      "|40.77.167.129|[22/Jan/2019:03:5...|GET /image/6248/p...|   200| 2788|Mozilla/5.0 (comp...|AhrefsBot|     Spider|\n",
      "|40.77.167.129|[22/Jan/2019:03:5...|GET /image/64815/...|   200| 3481|Mozilla/5.0 (comp...|AhrefsBot|     Spider|\n",
      "|66.249.66.194|[22/Jan/2019:03:5...|GET /m/filter/b2,...|   200|19451|Mozilla/5.0 (Linu...|AhrefsBot|     Spider|\n",
      "+-------------+--------------------+--------------------+------+-----+--------------------+---------+-----------+\n",
      "only showing top 20 rows\n",
      "\n"
     ]
    }
   ],
   "source": [
    "df1_4 = df1_2.join(df1_3)\n",
    "df1_4.show() "
   ]
  },
  {
   "cell_type": "code",
   "execution_count": null,
   "id": "eb985771",
   "metadata": {},
   "outputs": [],
   "source": [
    "Формирование таблицы \"Устройства по пользователям\""
   ]
  },
  {
   "cell_type": "code",
   "execution_count": 241,
   "id": "7b34a8b6",
   "metadata": {},
   "outputs": [
    {
     "name": "stdout",
     "output_type": "stream",
     "text": [
      "+-----------+-----------+\n",
      "|Name_Device|Count_Users|\n",
      "+-----------+-----------+\n",
      "|     Spider|       3800|\n",
      "|     Huawei|       1100|\n",
      "|       null|        900|\n",
      "|    Samsung|       1900|\n",
      "|        HTC|        600|\n",
      "|      Apple|        300|\n",
      "|    Generic|       1400|\n",
      "+-----------+-----------+\n",
      "\n"
     ]
    }
   ],
   "source": [
    "df_Devices_ = df1_4.groupby('Name_Device')\\\n",
    "             .agg(F.count('IP').alias('Count_Users'))\\\n",
    "             .withColumn('Count_Users',F.col('Count_Users'))\n",
    "             \n",
    "df_Devices_.show()"
   ]
  },
  {
   "cell_type": "code",
   "execution_count": 230,
   "id": "ebb4c10e",
   "metadata": {},
   "outputs": [],
   "source": [
    "#df_Devices = df_Devices.na.fill(\"other\")"
   ]
  },
  {
   "cell_type": "code",
   "execution_count": 258,
   "id": "c943347b",
   "metadata": {},
   "outputs": [
    {
     "name": "stdout",
     "output_type": "stream",
     "text": [
      "+-----------+-----------+\n",
      "|Name_Device|Count_Users|\n",
      "+-----------+-----------+\n",
      "|     Spider|       3800|\n",
      "|     Huawei|       1100|\n",
      "|    Samsung|       1900|\n",
      "|        HTC|        600|\n",
      "|      Apple|        300|\n",
      "|    Generic|       1400|\n",
      "+-----------+-----------+\n",
      "\n"
     ]
    }
   ],
   "source": [
    "df_D2 = df_Devices_.filter(df_Devices_.Name_Device != \"null\")\n",
    "df_D2.show()"
   ]
  },
  {
   "cell_type": "code",
   "execution_count": 259,
   "id": "c4f111f0",
   "metadata": {},
   "outputs": [
    {
     "name": "stderr",
     "output_type": "stream",
     "text": [
      "22/12/30 12:33:07 WARN WindowExec: No Partition Defined for Window operation! Moving all data to a single partition, this can cause serious performance degradation.\n"
     ]
    },
    {
     "name": "stdout",
     "output_type": "stream",
     "text": [
      "+-----------+-----------+-------------------+\n",
      "|Name_Device|Count_Users|        Ratio_Users|\n",
      "+-----------+-----------+-------------------+\n",
      "|     Spider|       3800| 0.4175824175824176|\n",
      "|    Samsung|       1900| 0.2087912087912088|\n",
      "|        HTC|        600|0.06593406593406594|\n",
      "|     Huawei|       1100|0.12087912087912088|\n",
      "|      Apple|        300|0.03296703296703297|\n",
      "|    Generic|       1400|0.15384615384615385|\n",
      "+-----------+-----------+-------------------+\n",
      "\n"
     ]
    },
    {
     "name": "stderr",
     "output_type": "stream",
     "text": [
      "                                                                                \r"
     ]
    }
   ],
   "source": [
    "df_Devices_Users = df_D2.withColumn('All_Users', F.sum('Count_Users').over(Window.partitionBy()))\\\n",
    "            .withColumn('Ratio_Users', F.col('Count_Users') / F.col('All_Users'))\\\n",
    "            .select('Name_Device', 'Count_Users', 'Ratio_Users')\n",
    "       \n",
    "df_Devices_Users.show()\n"
   ]
  },
  {
   "cell_type": "code",
   "execution_count": null,
   "id": "2a282597",
   "metadata": {},
   "outputs": [],
   "source": [
    "Формирование таблицы \"Устройства по действиям\""
   ]
  },
  {
   "cell_type": "code",
   "execution_count": 261,
   "id": "adc3b033",
   "metadata": {},
   "outputs": [
    {
     "name": "stderr",
     "output_type": "stream",
     "text": [
      "                                                                                \r"
     ]
    },
    {
     "name": "stdout",
     "output_type": "stream",
     "text": [
      "+-----------+-------------+\n",
      "|Name_Device|Count_Actions|\n",
      "+-----------+-------------+\n",
      "|     Spider|         3800|\n",
      "|     Huawei|         1100|\n",
      "|    Samsung|         1900|\n",
      "|        HTC|          600|\n",
      "|      Apple|          300|\n",
      "|    Generic|         1400|\n",
      "+-----------+-------------+\n",
      "\n"
     ]
    }
   ],
   "source": [
    "df_D3 = df_Devices_Users.join(df1_4, df_Devices_Users.Name_Device == df1_4.Name_Device)\\\n",
    "     .groupby(df1_4.Name_Device)\\\n",
    "     .agg(F.count(df1_4.Action).alias('Count_Actions'))\\\n",
    "     .withColumn('Count_Actions', F.col('Count_Actions'))\n",
    "     #.select(df_D2.Name_Device, df_D2.Count_Users, df_D2.Ratio_Users, df_D2.Count_Actions)\n",
    "df_D3.show() "
   ]
  },
  {
   "cell_type": "code",
   "execution_count": 262,
   "id": "b87aa1f1",
   "metadata": {},
   "outputs": [
    {
     "name": "stderr",
     "output_type": "stream",
     "text": [
      "22/12/30 12:35:08 WARN WindowExec: No Partition Defined for Window operation! Moving all data to a single partition, this can cause serious performance degradation.\n",
      "[Stage 2491:=====================================>              (144 + 2) / 200]\r"
     ]
    },
    {
     "name": "stdout",
     "output_type": "stream",
     "text": [
      "+-----------+-------------+-------------------+\n",
      "|Name_Device|Count_Actions|      Ratio_Actions|\n",
      "+-----------+-------------+-------------------+\n",
      "|    Generic|         1400|0.15384615384615385|\n",
      "|     Spider|         3800| 0.4175824175824176|\n",
      "|      Apple|          300|0.03296703296703297|\n",
      "|     Huawei|         1100|0.12087912087912088|\n",
      "|    Samsung|         1900| 0.2087912087912088|\n",
      "|        HTC|          600|0.06593406593406594|\n",
      "+-----------+-------------+-------------------+\n",
      "\n"
     ]
    },
    {
     "name": "stderr",
     "output_type": "stream",
     "text": [
      "                                                                                \r"
     ]
    }
   ],
   "source": [
    "df_Devices_Actions = df_D3.withColumn('All_Actions', F.sum('Count_Actions').over(Window.partitionBy()))\\\n",
    "            .withColumn('Ratio_Actions', F.col('Count_Actions') / F.col('All_Actions'))\\\n",
    "            .select('Name_Device', 'Count_Actions', 'Ratio_Actions')\n",
    "       \n",
    "df_Devices_Actions.show()"
   ]
  },
  {
   "cell_type": "code",
   "execution_count": null,
   "id": "38704f57",
   "metadata": {},
   "outputs": [],
   "source": []
  }
 ],
 "metadata": {
  "kernelspec": {
   "display_name": "Python 3 (ipykernel)",
   "language": "python",
   "name": "python3"
  },
  "language_info": {
   "codemirror_mode": {
    "name": "ipython",
    "version": 3
   },
   "file_extension": ".py",
   "mimetype": "text/x-python",
   "name": "python",
   "nbconvert_exporter": "python",
   "pygments_lexer": "ipython3",
   "version": "3.9.1"
  }
 },
 "nbformat": 4,
 "nbformat_minor": 5
}
